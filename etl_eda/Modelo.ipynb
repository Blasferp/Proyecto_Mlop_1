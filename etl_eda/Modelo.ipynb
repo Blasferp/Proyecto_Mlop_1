{
 "cells": [
  {
   "cell_type": "code",
   "execution_count": 1,
   "metadata": {},
   "outputs": [],
   "source": [
    "import pandas as pd\n",
    "import pyarrow.parquet as pq\n",
    "from sklearn.feature_extraction.text import TfidfVectorizer\n",
    "from sklearn.metrics.pairwise import linear_kernel\n"
   ]
  },
  {
   "cell_type": "code",
   "execution_count": 2,
   "metadata": {},
   "outputs": [],
   "source": [
    "df_steam_games = pq.read_table('df_steam_games_limpio_final.parquet').to_pandas()"
   ]
  },
  {
   "cell_type": "code",
   "execution_count": 3,
   "metadata": {},
   "outputs": [],
   "source": [
    "# Selección de columnas relevantes\n",
    "data = df_steam_games[['id', 'app_name', 'genres', 'tags', 'specs']]"
   ]
  },
  {
   "cell_type": "code",
   "execution_count": 4,
   "metadata": {},
   "outputs": [
    {
     "name": "stderr",
     "output_type": "stream",
     "text": [
      "C:\\Users\\Blasferp\\AppData\\Local\\Temp\\ipykernel_9988\\2149226059.py:2: SettingWithCopyWarning: \n",
      "A value is trying to be set on a copy of a slice from a DataFrame.\n",
      "Try using .loc[row_indexer,col_indexer] = value instead\n",
      "\n",
      "See the caveats in the documentation: https://pandas.pydata.org/pandas-docs/stable/user_guide/indexing.html#returning-a-view-versus-a-copy\n",
      "  data['combined_features'] = data['genres'] + ' ' + data['tags'] + ' ' + data['specs']\n"
     ]
    }
   ],
   "source": [
    "# Limpieza y preprocesamiento de texto\n",
    "data['combined_features'] = data['genres'] + ' ' + data['tags'] + ' ' + data['specs']"
   ]
  },
  {
   "cell_type": "code",
   "execution_count": 5,
   "metadata": {},
   "outputs": [
    {
     "data": {
      "text/plain": [
       "(2020050, 6)"
      ]
     },
     "execution_count": 5,
     "metadata": {},
     "output_type": "execute_result"
    }
   ],
   "source": [
    "data.shape"
   ]
  },
  {
   "cell_type": "code",
   "execution_count": 6,
   "metadata": {},
   "outputs": [],
   "source": [
    "data = data.groupby('id').first().reset_index()"
   ]
  },
  {
   "cell_type": "code",
   "execution_count": 7,
   "metadata": {},
   "outputs": [],
   "source": [
    "data = data[data['id']!=0]"
   ]
  },
  {
   "cell_type": "code",
   "execution_count": 8,
   "metadata": {},
   "outputs": [
    {
     "data": {
      "text/plain": [
       "30708"
      ]
     },
     "execution_count": 8,
     "metadata": {},
     "output_type": "execute_result"
    }
   ],
   "source": [
    "data['app_name'].nunique()"
   ]
  },
  {
   "cell_type": "code",
   "execution_count": 9,
   "metadata": {},
   "outputs": [],
   "source": [
    "data = data.sample(n=3500)"
   ]
  },
  {
   "cell_type": "code",
   "execution_count": 10,
   "metadata": {},
   "outputs": [
    {
     "data": {
      "text/plain": [
       "(3500, 6)"
      ]
     },
     "execution_count": 10,
     "metadata": {},
     "output_type": "execute_result"
    }
   ],
   "source": [
    "data.shape"
   ]
  },
  {
   "cell_type": "code",
   "execution_count": 11,
   "metadata": {},
   "outputs": [],
   "source": [
    "data.reset_index(drop=True, inplace=True)"
   ]
  },
  {
   "cell_type": "code",
   "execution_count": 12,
   "metadata": {},
   "outputs": [
    {
     "data": {
      "text/html": [
       "<div>\n",
       "<style scoped>\n",
       "    .dataframe tbody tr th:only-of-type {\n",
       "        vertical-align: middle;\n",
       "    }\n",
       "\n",
       "    .dataframe tbody tr th {\n",
       "        vertical-align: top;\n",
       "    }\n",
       "\n",
       "    .dataframe thead th {\n",
       "        text-align: right;\n",
       "    }\n",
       "</style>\n",
       "<table border=\"1\" class=\"dataframe\">\n",
       "  <thead>\n",
       "    <tr style=\"text-align: right;\">\n",
       "      <th></th>\n",
       "      <th>id</th>\n",
       "      <th>app_name</th>\n",
       "      <th>genres</th>\n",
       "      <th>tags</th>\n",
       "      <th>specs</th>\n",
       "      <th>combined_features</th>\n",
       "    </tr>\n",
       "  </thead>\n",
       "  <tbody>\n",
       "    <tr>\n",
       "      <th>0</th>\n",
       "      <td>509711</td>\n",
       "      <td>rocksmith® 2014 edition – remastered – evanesc...</td>\n",
       "      <td>casual</td>\n",
       "      <td>casual</td>\n",
       "      <td>single player</td>\n",
       "      <td>casual casual single player</td>\n",
       "    </tr>\n",
       "    <tr>\n",
       "      <th>1</th>\n",
       "      <td>647460</td>\n",
       "      <td>adventures in comedy</td>\n",
       "      <td>none</td>\n",
       "      <td>movie</td>\n",
       "      <td>captions available</td>\n",
       "      <td>none movie captions available</td>\n",
       "    </tr>\n",
       "    <tr>\n",
       "      <th>2</th>\n",
       "      <td>669340</td>\n",
       "      <td>the royal cosmonautical society</td>\n",
       "      <td>action</td>\n",
       "      <td>adventure</td>\n",
       "      <td>single player</td>\n",
       "      <td>action adventure single player</td>\n",
       "    </tr>\n",
       "    <tr>\n",
       "      <th>3</th>\n",
       "      <td>643460</td>\n",
       "      <td>tane dlc: bnsf gp38 2 pumpkins (2 pack)</td>\n",
       "      <td>simulation</td>\n",
       "      <td>simulation</td>\n",
       "      <td>single player</td>\n",
       "      <td>simulation simulation single player</td>\n",
       "    </tr>\n",
       "    <tr>\n",
       "      <th>4</th>\n",
       "      <td>261490</td>\n",
       "      <td>bedlam</td>\n",
       "      <td>action</td>\n",
       "      <td>action</td>\n",
       "      <td>single player</td>\n",
       "      <td>action action single player</td>\n",
       "    </tr>\n",
       "    <tr>\n",
       "      <th>...</th>\n",
       "      <td>...</td>\n",
       "      <td>...</td>\n",
       "      <td>...</td>\n",
       "      <td>...</td>\n",
       "      <td>...</td>\n",
       "      <td>...</td>\n",
       "    </tr>\n",
       "    <tr>\n",
       "      <th>3495</th>\n",
       "      <td>670130</td>\n",
       "      <td>jam studio vr</td>\n",
       "      <td>none</td>\n",
       "      <td>casual</td>\n",
       "      <td>single player</td>\n",
       "      <td>none casual single player</td>\n",
       "    </tr>\n",
       "    <tr>\n",
       "      <th>3496</th>\n",
       "      <td>15310</td>\n",
       "      <td>the settlers®: heritage of kings</td>\n",
       "      <td>strategy</td>\n",
       "      <td>strategy</td>\n",
       "      <td>single player</td>\n",
       "      <td>strategy strategy single player</td>\n",
       "    </tr>\n",
       "    <tr>\n",
       "      <th>3497</th>\n",
       "      <td>357370</td>\n",
       "      <td>return null   episode 1</td>\n",
       "      <td>indie</td>\n",
       "      <td>interactive fiction</td>\n",
       "      <td>single player</td>\n",
       "      <td>indie interactive fiction single player</td>\n",
       "    </tr>\n",
       "    <tr>\n",
       "      <th>3498</th>\n",
       "      <td>647740</td>\n",
       "      <td>airmen</td>\n",
       "      <td>action</td>\n",
       "      <td>action</td>\n",
       "      <td>multi player</td>\n",
       "      <td>action action multi player</td>\n",
       "    </tr>\n",
       "    <tr>\n",
       "      <th>3499</th>\n",
       "      <td>227260</td>\n",
       "      <td>displayfusion</td>\n",
       "      <td>utilities</td>\n",
       "      <td>utilities</td>\n",
       "      <td>none</td>\n",
       "      <td>utilities utilities none</td>\n",
       "    </tr>\n",
       "  </tbody>\n",
       "</table>\n",
       "<p>3500 rows × 6 columns</p>\n",
       "</div>"
      ],
      "text/plain": [
       "          id                                           app_name      genres  \\\n",
       "0     509711  rocksmith® 2014 edition – remastered – evanesc...      casual   \n",
       "1     647460                               adventures in comedy        none   \n",
       "2     669340                    the royal cosmonautical society      action   \n",
       "3     643460            tane dlc: bnsf gp38 2 pumpkins (2 pack)  simulation   \n",
       "4     261490                                             bedlam      action   \n",
       "...      ...                                                ...         ...   \n",
       "3495  670130                                      jam studio vr        none   \n",
       "3496   15310                   the settlers®: heritage of kings    strategy   \n",
       "3497  357370                            return null   episode 1       indie   \n",
       "3498  647740                                             airmen      action   \n",
       "3499  227260                                      displayfusion   utilities   \n",
       "\n",
       "                     tags               specs  \\\n",
       "0                  casual       single player   \n",
       "1                   movie  captions available   \n",
       "2               adventure       single player   \n",
       "3              simulation       single player   \n",
       "4                  action       single player   \n",
       "...                   ...                 ...   \n",
       "3495               casual       single player   \n",
       "3496             strategy       single player   \n",
       "3497  interactive fiction       single player   \n",
       "3498               action        multi player   \n",
       "3499            utilities                none   \n",
       "\n",
       "                            combined_features  \n",
       "0                 casual casual single player  \n",
       "1               none movie captions available  \n",
       "2              action adventure single player  \n",
       "3         simulation simulation single player  \n",
       "4                 action action single player  \n",
       "...                                       ...  \n",
       "3495                none casual single player  \n",
       "3496          strategy strategy single player  \n",
       "3497  indie interactive fiction single player  \n",
       "3498               action action multi player  \n",
       "3499                 utilities utilities none  \n",
       "\n",
       "[3500 rows x 6 columns]"
      ]
     },
     "execution_count": 12,
     "metadata": {},
     "output_type": "execute_result"
    }
   ],
   "source": [
    "data"
   ]
  },
  {
   "cell_type": "code",
   "execution_count": 13,
   "metadata": {},
   "outputs": [
    {
     "data": {
      "text/html": [
       "<div>\n",
       "<style scoped>\n",
       "    .dataframe tbody tr th:only-of-type {\n",
       "        vertical-align: middle;\n",
       "    }\n",
       "\n",
       "    .dataframe tbody tr th {\n",
       "        vertical-align: top;\n",
       "    }\n",
       "\n",
       "    .dataframe thead th {\n",
       "        text-align: right;\n",
       "    }\n",
       "</style>\n",
       "<table border=\"1\" class=\"dataframe\">\n",
       "  <thead>\n",
       "    <tr style=\"text-align: right;\">\n",
       "      <th></th>\n",
       "      <th>id</th>\n",
       "      <th>app_name</th>\n",
       "      <th>genres</th>\n",
       "      <th>tags</th>\n",
       "      <th>specs</th>\n",
       "      <th>combined_features</th>\n",
       "    </tr>\n",
       "  </thead>\n",
       "  <tbody>\n",
       "    <tr>\n",
       "      <th>0</th>\n",
       "      <td>509711</td>\n",
       "      <td>rocksmith® 2014 edition – remastered – evanesc...</td>\n",
       "      <td>casual</td>\n",
       "      <td>casual</td>\n",
       "      <td>single player</td>\n",
       "      <td>casual casual single player</td>\n",
       "    </tr>\n",
       "    <tr>\n",
       "      <th>1</th>\n",
       "      <td>647460</td>\n",
       "      <td>adventures in comedy</td>\n",
       "      <td>none</td>\n",
       "      <td>movie</td>\n",
       "      <td>captions available</td>\n",
       "      <td>none movie captions available</td>\n",
       "    </tr>\n",
       "    <tr>\n",
       "      <th>2</th>\n",
       "      <td>669340</td>\n",
       "      <td>the royal cosmonautical society</td>\n",
       "      <td>action</td>\n",
       "      <td>adventure</td>\n",
       "      <td>single player</td>\n",
       "      <td>action adventure single player</td>\n",
       "    </tr>\n",
       "    <tr>\n",
       "      <th>3</th>\n",
       "      <td>643460</td>\n",
       "      <td>tane dlc: bnsf gp38 2 pumpkins (2 pack)</td>\n",
       "      <td>simulation</td>\n",
       "      <td>simulation</td>\n",
       "      <td>single player</td>\n",
       "      <td>simulation simulation single player</td>\n",
       "    </tr>\n",
       "    <tr>\n",
       "      <th>4</th>\n",
       "      <td>261490</td>\n",
       "      <td>bedlam</td>\n",
       "      <td>action</td>\n",
       "      <td>action</td>\n",
       "      <td>single player</td>\n",
       "      <td>action action single player</td>\n",
       "    </tr>\n",
       "    <tr>\n",
       "      <th>5</th>\n",
       "      <td>296210</td>\n",
       "      <td>brigade e5: new jagged union</td>\n",
       "      <td>simulation</td>\n",
       "      <td>strategy</td>\n",
       "      <td>single player</td>\n",
       "      <td>simulation strategy single player</td>\n",
       "    </tr>\n",
       "    <tr>\n",
       "      <th>6</th>\n",
       "      <td>444290</td>\n",
       "      <td>28 waves later</td>\n",
       "      <td>action</td>\n",
       "      <td>action</td>\n",
       "      <td>single player</td>\n",
       "      <td>action action single player</td>\n",
       "    </tr>\n",
       "    <tr>\n",
       "      <th>7</th>\n",
       "      <td>206152</td>\n",
       "      <td>rocksmith   finger eleven   paralyzer</td>\n",
       "      <td>casual</td>\n",
       "      <td>casual</td>\n",
       "      <td>single player</td>\n",
       "      <td>casual casual single player</td>\n",
       "    </tr>\n",
       "    <tr>\n",
       "      <th>8</th>\n",
       "      <td>406920</td>\n",
       "      <td>monsterland</td>\n",
       "      <td>action</td>\n",
       "      <td>indie</td>\n",
       "      <td>single player</td>\n",
       "      <td>action indie single player</td>\n",
       "    </tr>\n",
       "    <tr>\n",
       "      <th>9</th>\n",
       "      <td>487370</td>\n",
       "      <td>akin</td>\n",
       "      <td>casual</td>\n",
       "      <td>casual</td>\n",
       "      <td>single player</td>\n",
       "      <td>casual casual single player</td>\n",
       "    </tr>\n",
       "  </tbody>\n",
       "</table>\n",
       "</div>"
      ],
      "text/plain": [
       "       id                                           app_name      genres  \\\n",
       "0  509711  rocksmith® 2014 edition – remastered – evanesc...      casual   \n",
       "1  647460                               adventures in comedy        none   \n",
       "2  669340                    the royal cosmonautical society      action   \n",
       "3  643460            tane dlc: bnsf gp38 2 pumpkins (2 pack)  simulation   \n",
       "4  261490                                             bedlam      action   \n",
       "5  296210                       brigade e5: new jagged union  simulation   \n",
       "6  444290                                     28 waves later      action   \n",
       "7  206152              rocksmith   finger eleven   paralyzer      casual   \n",
       "8  406920                                        monsterland      action   \n",
       "9  487370                                               akin      casual   \n",
       "\n",
       "         tags               specs                    combined_features  \n",
       "0      casual       single player          casual casual single player  \n",
       "1       movie  captions available        none movie captions available  \n",
       "2   adventure       single player       action adventure single player  \n",
       "3  simulation       single player  simulation simulation single player  \n",
       "4      action       single player          action action single player  \n",
       "5    strategy       single player    simulation strategy single player  \n",
       "6      action       single player          action action single player  \n",
       "7      casual       single player          casual casual single player  \n",
       "8       indie       single player           action indie single player  \n",
       "9      casual       single player          casual casual single player  "
      ]
     },
     "execution_count": 13,
     "metadata": {},
     "output_type": "execute_result"
    }
   ],
   "source": [
    "data.head(10)"
   ]
  },
  {
   "cell_type": "code",
   "execution_count": 14,
   "metadata": {},
   "outputs": [
    {
     "data": {
      "text/plain": [
       "app_name\n",
       "rocksmith® 2014 edition – remastered – evanescence   “going under”    1\n",
       "madballs campaign deserters pack                                      1\n",
       "slimebrawl                                                            1\n",
       "ski sport: jumping vr                                                 1\n",
       "marvel vs. capcom: infinite   ryu wanderer costume                    1\n",
       "                                                                     ..\n",
       "rocksmith® 2014 – tom petty   “i won’t back down”                     1\n",
       "rocksmith® 2014 edition – remastered – halestorm   “mz. hyde”         1\n",
       "darkest hour: europe 44 45                                            1\n",
       "gearcity                                                              1\n",
       "displayfusion                                                         1\n",
       "Name: count, Length: 3500, dtype: int64"
      ]
     },
     "execution_count": 14,
     "metadata": {},
     "output_type": "execute_result"
    }
   ],
   "source": [
    "data['app_name'].value_counts()"
   ]
  },
  {
   "cell_type": "code",
   "execution_count": 15,
   "metadata": {},
   "outputs": [],
   "source": [
    "import pyarrow.parquet as pq\n",
    "data.to_parquet('df_endopoint6.parquet')"
   ]
  },
  {
   "cell_type": "code",
   "execution_count": 16,
   "metadata": {},
   "outputs": [],
   "source": [
    "from sklearn.feature_extraction.text import CountVectorizer\n",
    "from sklearn.metrics.pairwise import cosine_similarity"
   ]
  },
  {
   "cell_type": "code",
   "execution_count": 17,
   "metadata": {},
   "outputs": [],
   "source": [
    "CV = CountVectorizer()\n",
    "converted_metrix = CV.fit_transform(data['combined_features'])"
   ]
  },
  {
   "cell_type": "code",
   "execution_count": 18,
   "metadata": {},
   "outputs": [],
   "source": [
    "cosine_similarity = cosine_similarity(converted_metrix)"
   ]
  },
  {
   "cell_type": "code",
   "execution_count": 19,
   "metadata": {},
   "outputs": [],
   "source": [
    "def get_recommendations(app_name, cosine_sim=cosine_similarity ):\n",
    "    idx = data[data['app_name'] == app_name].index[0]\n",
    "    sim_scores = list(enumerate(cosine_sim[idx]))\n",
    "    sim_scores = sorted(sim_scores, key=lambda x: x[1], reverse=True)\n",
    "    sim_scores = sim_scores[1:6]  # Top 10 juegos similares\n",
    "    game_indices = [i[0] for i in sim_scores]\n",
    "    return data['app_name'].iloc[game_indices]\n",
    "\n"
   ]
  },
  {
   "cell_type": "code",
   "execution_count": 20,
   "metadata": {},
   "outputs": [
    {
     "data": {
      "text/plain": [
       "['Matriz1.pkl']"
      ]
     },
     "execution_count": 20,
     "metadata": {},
     "output_type": "execute_result"
    }
   ],
   "source": [
    "# guardo la matriz\n",
    "\n",
    "import joblib #pickle es alternativa\n",
    "\n",
    "joblib.dump(cosine_similarity, 'Matriz1.pkl', compress=1)"
   ]
  },
  {
   "cell_type": "code",
   "execution_count": 23,
   "metadata": {},
   "outputs": [],
   "source": [
    "import joblib\n",
    "with open('Matriz1.pkl', 'rb') as file:\n",
    "        modelo = joblib.load(file)\n",
    "\n",
    "data = pd.read_parquet('df_endpoint6.parquet')"
   ]
  },
  {
   "cell_type": "code",
   "execution_count": 24,
   "metadata": {},
   "outputs": [
    {
     "data": {
      "text/plain": [
       "(3500, 6)"
      ]
     },
     "execution_count": 24,
     "metadata": {},
     "output_type": "execute_result"
    }
   ],
   "source": [
    "data.shape"
   ]
  },
  {
   "cell_type": "code",
   "execution_count": 26,
   "metadata": {},
   "outputs": [
    {
     "name": "stdout",
     "output_type": "stream",
     "text": [
      "6                              28 waves later\n",
      "10                              fleeting ages\n",
      "12                  tomb raider: pistol burst\n",
      "13               kung fu panda: panda village\n",
      "41    dead rising 2   soldier of fortune pack\n",
      "Name: app_name, dtype: object\n"
     ]
    }
   ],
   "source": [
    "recommendations = get_recommendations('marvel vs. capcom: infinite   ryu wanderer costume')\n",
    "print(recommendations)"
   ]
  }
 ],
 "metadata": {
  "kernelspec": {
   "display_name": "env",
   "language": "python",
   "name": "python3"
  },
  "language_info": {
   "codemirror_mode": {
    "name": "ipython",
    "version": 3
   },
   "file_extension": ".py",
   "mimetype": "text/x-python",
   "name": "python",
   "nbconvert_exporter": "python",
   "pygments_lexer": "ipython3",
   "version": "3.11.0b5"
  }
 },
 "nbformat": 4,
 "nbformat_minor": 2
}

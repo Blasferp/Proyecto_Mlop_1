{
 "cells": [
  {
   "cell_type": "code",
   "execution_count": 27,
   "metadata": {},
   "outputs": [],
   "source": [
    "import pandas as pd\n",
    "import pyarrow.parquet as pq\n",
    "from sklearn.feature_extraction.text import TfidfVectorizer\n",
    "from sklearn.metrics.pairwise import linear_kernel\n"
   ]
  },
  {
   "cell_type": "code",
   "execution_count": 28,
   "metadata": {},
   "outputs": [],
   "source": [
    "df_steam_games = pq.read_table('df_steam_games_limpio_final.parquet').to_pandas()"
   ]
  },
  {
   "cell_type": "code",
   "execution_count": 29,
   "metadata": {},
   "outputs": [],
   "source": [
    "# Selección de columnas relevantes\n",
    "data = df_steam_games[['id', 'app_name', 'genres', 'tags', 'specs']]"
   ]
  },
  {
   "cell_type": "code",
   "execution_count": 30,
   "metadata": {},
   "outputs": [
    {
     "name": "stderr",
     "output_type": "stream",
     "text": [
      "C:\\Users\\Blasferp\\AppData\\Local\\Temp\\ipykernel_12556\\2149226059.py:2: SettingWithCopyWarning: \n",
      "A value is trying to be set on a copy of a slice from a DataFrame.\n",
      "Try using .loc[row_indexer,col_indexer] = value instead\n",
      "\n",
      "See the caveats in the documentation: https://pandas.pydata.org/pandas-docs/stable/user_guide/indexing.html#returning-a-view-versus-a-copy\n",
      "  data['combined_features'] = data['genres'] + ' ' + data['tags'] + ' ' + data['specs']\n"
     ]
    }
   ],
   "source": [
    "# Limpieza y preprocesamiento de texto\n",
    "data['combined_features'] = data['genres'] + ' ' + data['tags'] + ' ' + data['specs']"
   ]
  },
  {
   "cell_type": "code",
   "execution_count": 31,
   "metadata": {},
   "outputs": [
    {
     "data": {
      "text/plain": [
       "(2020050, 6)"
      ]
     },
     "execution_count": 31,
     "metadata": {},
     "output_type": "execute_result"
    }
   ],
   "source": [
    "data.shape"
   ]
  },
  {
   "cell_type": "code",
   "execution_count": 32,
   "metadata": {},
   "outputs": [],
   "source": [
    "data = data.groupby('id').first().reset_index()"
   ]
  },
  {
   "cell_type": "code",
   "execution_count": 33,
   "metadata": {},
   "outputs": [],
   "source": [
    "data = data[data['id']!=0]"
   ]
  },
  {
   "cell_type": "code",
   "execution_count": 34,
   "metadata": {},
   "outputs": [
    {
     "data": {
      "text/plain": [
       "30708"
      ]
     },
     "execution_count": 34,
     "metadata": {},
     "output_type": "execute_result"
    }
   ],
   "source": [
    "data['app_name'].nunique()"
   ]
  },
  {
   "cell_type": "code",
   "execution_count": 35,
   "metadata": {},
   "outputs": [],
   "source": [
    "data = data.sample(n=3500)"
   ]
  },
  {
   "cell_type": "code",
   "execution_count": 36,
   "metadata": {},
   "outputs": [
    {
     "data": {
      "text/plain": [
       "(3500, 6)"
      ]
     },
     "execution_count": 36,
     "metadata": {},
     "output_type": "execute_result"
    }
   ],
   "source": [
    "data.shape"
   ]
  },
  {
   "cell_type": "code",
   "execution_count": 37,
   "metadata": {},
   "outputs": [],
   "source": [
    "data.reset_index(drop=True, inplace=True)"
   ]
  },
  {
   "cell_type": "code",
   "execution_count": 38,
   "metadata": {},
   "outputs": [
    {
     "data": {
      "text/html": [
       "<div>\n",
       "<style scoped>\n",
       "    .dataframe tbody tr th:only-of-type {\n",
       "        vertical-align: middle;\n",
       "    }\n",
       "\n",
       "    .dataframe tbody tr th {\n",
       "        vertical-align: top;\n",
       "    }\n",
       "\n",
       "    .dataframe thead th {\n",
       "        text-align: right;\n",
       "    }\n",
       "</style>\n",
       "<table border=\"1\" class=\"dataframe\">\n",
       "  <thead>\n",
       "    <tr style=\"text-align: right;\">\n",
       "      <th></th>\n",
       "      <th>id</th>\n",
       "      <th>app_name</th>\n",
       "      <th>genres</th>\n",
       "      <th>tags</th>\n",
       "      <th>specs</th>\n",
       "      <th>combined_features</th>\n",
       "    </tr>\n",
       "  </thead>\n",
       "  <tbody>\n",
       "    <tr>\n",
       "      <th>0</th>\n",
       "      <td>657680</td>\n",
       "      <td>nasway</td>\n",
       "      <td>casual</td>\n",
       "      <td>indie</td>\n",
       "      <td>single player</td>\n",
       "      <td>casual indie single player</td>\n",
       "    </tr>\n",
       "    <tr>\n",
       "      <th>1</th>\n",
       "      <td>257710</td>\n",
       "      <td>max gentlemen</td>\n",
       "      <td>casual</td>\n",
       "      <td>free to play</td>\n",
       "      <td>single player</td>\n",
       "      <td>casual free to play single player</td>\n",
       "    </tr>\n",
       "    <tr>\n",
       "      <th>2</th>\n",
       "      <td>404750</td>\n",
       "      <td>carrotting brain</td>\n",
       "      <td>action</td>\n",
       "      <td>early access</td>\n",
       "      <td>shared/split screen</td>\n",
       "      <td>action early access shared/split screen</td>\n",
       "    </tr>\n",
       "    <tr>\n",
       "      <th>3</th>\n",
       "      <td>512740</td>\n",
       "      <td>flat path</td>\n",
       "      <td>casual</td>\n",
       "      <td>indie</td>\n",
       "      <td>single player</td>\n",
       "      <td>casual indie single player</td>\n",
       "    </tr>\n",
       "    <tr>\n",
       "      <th>4</th>\n",
       "      <td>552440</td>\n",
       "      <td>the talos principle vr</td>\n",
       "      <td>none</td>\n",
       "      <td>adventure</td>\n",
       "      <td>single player</td>\n",
       "      <td>none adventure single player</td>\n",
       "    </tr>\n",
       "    <tr>\n",
       "      <th>...</th>\n",
       "      <td>...</td>\n",
       "      <td>...</td>\n",
       "      <td>...</td>\n",
       "      <td>...</td>\n",
       "      <td>...</td>\n",
       "      <td>...</td>\n",
       "    </tr>\n",
       "    <tr>\n",
       "      <th>3495</th>\n",
       "      <td>660110</td>\n",
       "      <td>depthmera</td>\n",
       "      <td>action</td>\n",
       "      <td>action</td>\n",
       "      <td>single player</td>\n",
       "      <td>action action single player</td>\n",
       "    </tr>\n",
       "    <tr>\n",
       "      <th>3496</th>\n",
       "      <td>395880</td>\n",
       "      <td>sky tower</td>\n",
       "      <td>none</td>\n",
       "      <td>indie</td>\n",
       "      <td>single player</td>\n",
       "      <td>none indie single player</td>\n",
       "    </tr>\n",
       "    <tr>\n",
       "      <th>3497</th>\n",
       "      <td>657590</td>\n",
       "      <td>grav blazer</td>\n",
       "      <td>action</td>\n",
       "      <td>action</td>\n",
       "      <td>single player</td>\n",
       "      <td>action action single player</td>\n",
       "    </tr>\n",
       "    <tr>\n",
       "      <th>3498</th>\n",
       "      <td>457140</td>\n",
       "      <td>oxygen not included</td>\n",
       "      <td>indie</td>\n",
       "      <td>early access</td>\n",
       "      <td>single player</td>\n",
       "      <td>indie early access single player</td>\n",
       "    </tr>\n",
       "    <tr>\n",
       "      <th>3499</th>\n",
       "      <td>488320</td>\n",
       "      <td>disgraced revolutionarys edition dlc</td>\n",
       "      <td>action</td>\n",
       "      <td>strategy</td>\n",
       "      <td>single player</td>\n",
       "      <td>action strategy single player</td>\n",
       "    </tr>\n",
       "  </tbody>\n",
       "</table>\n",
       "<p>3500 rows × 6 columns</p>\n",
       "</div>"
      ],
      "text/plain": [
       "          id                              app_name  genres          tags  \\\n",
       "0     657680                                nasway  casual         indie   \n",
       "1     257710                         max gentlemen  casual  free to play   \n",
       "2     404750                      carrotting brain  action  early access   \n",
       "3     512740                             flat path  casual         indie   \n",
       "4     552440                the talos principle vr    none     adventure   \n",
       "...      ...                                   ...     ...           ...   \n",
       "3495  660110                             depthmera  action        action   \n",
       "3496  395880                             sky tower    none         indie   \n",
       "3497  657590                           grav blazer  action        action   \n",
       "3498  457140                   oxygen not included   indie  early access   \n",
       "3499  488320  disgraced revolutionarys edition dlc  action      strategy   \n",
       "\n",
       "                    specs                        combined_features  \n",
       "0           single player               casual indie single player  \n",
       "1           single player        casual free to play single player  \n",
       "2     shared/split screen  action early access shared/split screen  \n",
       "3           single player               casual indie single player  \n",
       "4           single player             none adventure single player  \n",
       "...                   ...                                      ...  \n",
       "3495        single player              action action single player  \n",
       "3496        single player                 none indie single player  \n",
       "3497        single player              action action single player  \n",
       "3498        single player         indie early access single player  \n",
       "3499        single player            action strategy single player  \n",
       "\n",
       "[3500 rows x 6 columns]"
      ]
     },
     "execution_count": 38,
     "metadata": {},
     "output_type": "execute_result"
    }
   ],
   "source": [
    "data"
   ]
  },
  {
   "cell_type": "code",
   "execution_count": 39,
   "metadata": {},
   "outputs": [
    {
     "data": {
      "text/html": [
       "<div>\n",
       "<style scoped>\n",
       "    .dataframe tbody tr th:only-of-type {\n",
       "        vertical-align: middle;\n",
       "    }\n",
       "\n",
       "    .dataframe tbody tr th {\n",
       "        vertical-align: top;\n",
       "    }\n",
       "\n",
       "    .dataframe thead th {\n",
       "        text-align: right;\n",
       "    }\n",
       "</style>\n",
       "<table border=\"1\" class=\"dataframe\">\n",
       "  <thead>\n",
       "    <tr style=\"text-align: right;\">\n",
       "      <th></th>\n",
       "      <th>id</th>\n",
       "      <th>app_name</th>\n",
       "      <th>genres</th>\n",
       "      <th>tags</th>\n",
       "      <th>specs</th>\n",
       "      <th>combined_features</th>\n",
       "    </tr>\n",
       "  </thead>\n",
       "  <tbody>\n",
       "    <tr>\n",
       "      <th>0</th>\n",
       "      <td>657680</td>\n",
       "      <td>nasway</td>\n",
       "      <td>casual</td>\n",
       "      <td>indie</td>\n",
       "      <td>single player</td>\n",
       "      <td>casual indie single player</td>\n",
       "    </tr>\n",
       "    <tr>\n",
       "      <th>1</th>\n",
       "      <td>257710</td>\n",
       "      <td>max gentlemen</td>\n",
       "      <td>casual</td>\n",
       "      <td>free to play</td>\n",
       "      <td>single player</td>\n",
       "      <td>casual free to play single player</td>\n",
       "    </tr>\n",
       "    <tr>\n",
       "      <th>2</th>\n",
       "      <td>404750</td>\n",
       "      <td>carrotting brain</td>\n",
       "      <td>action</td>\n",
       "      <td>early access</td>\n",
       "      <td>shared/split screen</td>\n",
       "      <td>action early access shared/split screen</td>\n",
       "    </tr>\n",
       "    <tr>\n",
       "      <th>3</th>\n",
       "      <td>512740</td>\n",
       "      <td>flat path</td>\n",
       "      <td>casual</td>\n",
       "      <td>indie</td>\n",
       "      <td>single player</td>\n",
       "      <td>casual indie single player</td>\n",
       "    </tr>\n",
       "    <tr>\n",
       "      <th>4</th>\n",
       "      <td>552440</td>\n",
       "      <td>the talos principle vr</td>\n",
       "      <td>none</td>\n",
       "      <td>adventure</td>\n",
       "      <td>single player</td>\n",
       "      <td>none adventure single player</td>\n",
       "    </tr>\n",
       "  </tbody>\n",
       "</table>\n",
       "</div>"
      ],
      "text/plain": [
       "       id                app_name  genres          tags                specs  \\\n",
       "0  657680                  nasway  casual         indie        single player   \n",
       "1  257710           max gentlemen  casual  free to play        single player   \n",
       "2  404750        carrotting brain  action  early access  shared/split screen   \n",
       "3  512740               flat path  casual         indie        single player   \n",
       "4  552440  the talos principle vr    none     adventure        single player   \n",
       "\n",
       "                         combined_features  \n",
       "0               casual indie single player  \n",
       "1        casual free to play single player  \n",
       "2  action early access shared/split screen  \n",
       "3               casual indie single player  \n",
       "4             none adventure single player  "
      ]
     },
     "execution_count": 39,
     "metadata": {},
     "output_type": "execute_result"
    }
   ],
   "source": [
    "data.head()"
   ]
  },
  {
   "cell_type": "code",
   "execution_count": 41,
   "metadata": {},
   "outputs": [
    {
     "data": {
      "text/plain": [
       "app_name\n",
       "altitude                                                   2\n",
       "nasway                                                     1\n",
       "fsx: steam edition   piper pa 38 tomahawk ii add on        1\n",
       "rogue singularity                                          1\n",
       "graviteam tactics: zhalanashkol 1969                       1\n",
       "                                                          ..\n",
       "lost in nature                                             1\n",
       "colorless life                                             1\n",
       "fantasy grounds   mini dungeon #005: the soularium (5e)    1\n",
       "army men: toys in space                                    1\n",
       "disgraced revolutionarys edition dlc                       1\n",
       "Name: count, Length: 3499, dtype: int64"
      ]
     },
     "execution_count": 41,
     "metadata": {},
     "output_type": "execute_result"
    }
   ],
   "source": [
    "data['app_name'].value_counts()"
   ]
  },
  {
   "cell_type": "code",
   "execution_count": 42,
   "metadata": {},
   "outputs": [],
   "source": [
    "import pyarrow.parquet as pq\n",
    "data.to_parquet('df_prueba.parquet')"
   ]
  },
  {
   "cell_type": "code",
   "execution_count": 43,
   "metadata": {},
   "outputs": [],
   "source": [
    "from sklearn.feature_extraction.text import CountVectorizer\n",
    "from sklearn.metrics.pairwise import cosine_similarity"
   ]
  },
  {
   "cell_type": "code",
   "execution_count": 44,
   "metadata": {},
   "outputs": [],
   "source": [
    "CV = CountVectorizer()\n",
    "converted_metrix = CV.fit_transform(data['combined_features'])"
   ]
  },
  {
   "cell_type": "code",
   "execution_count": 45,
   "metadata": {},
   "outputs": [],
   "source": [
    "cosine_similarity = cosine_similarity(converted_metrix)"
   ]
  },
  {
   "cell_type": "code",
   "execution_count": 46,
   "metadata": {},
   "outputs": [],
   "source": [
    "def get_recommendations(app_name, cosine_sim=cosine_similarity ):\n",
    "    idx = data[data['app_name'] == app_name].index[0]\n",
    "    sim_scores = list(enumerate(cosine_sim[idx]))\n",
    "    sim_scores = sorted(sim_scores, key=lambda x: x[1], reverse=True)\n",
    "    sim_scores = sim_scores[1:6]  # Top 10 juegos similares\n",
    "    game_indices = [i[0] for i in sim_scores]\n",
    "    return data['app_name'].iloc[game_indices]\n",
    "\n"
   ]
  },
  {
   "cell_type": "code",
   "execution_count": 47,
   "metadata": {},
   "outputs": [
    {
     "data": {
      "text/plain": [
       "['Matriz.pkl']"
      ]
     },
     "execution_count": 47,
     "metadata": {},
     "output_type": "execute_result"
    }
   ],
   "source": [
    "# guardo la matriz\n",
    "\n",
    "import joblib #pickle es alternativa\n",
    "\n",
    "joblib.dump(cosine_similarity, 'Matriz.pkl', compress=1)"
   ]
  },
  {
   "cell_type": "code",
   "execution_count": 48,
   "metadata": {},
   "outputs": [],
   "source": [
    "import joblib\n",
    "with open('Matriz.pkl', 'rb') as file:\n",
    "        modelo = joblib.load(file)\n",
    "\n",
    "data = pd.read_parquet('df_prueba.parquet')"
   ]
  },
  {
   "cell_type": "code",
   "execution_count": 49,
   "metadata": {},
   "outputs": [
    {
     "data": {
      "text/plain": [
       "(3500, 6)"
      ]
     },
     "execution_count": 49,
     "metadata": {},
     "output_type": "execute_result"
    }
   ],
   "source": [
    "data.shape"
   ]
  },
  {
   "cell_type": "code",
   "execution_count": 50,
   "metadata": {},
   "outputs": [
    {
     "name": "stdout",
     "output_type": "stream",
     "text": [
      "728     dungeons of betrayal\n",
      "1063         legends of time\n",
      "1082         majestic trials\n",
      "1171          lost in nature\n",
      "1218             calico  co.\n",
      "Name: app_name, dtype: object\n"
     ]
    }
   ],
   "source": [
    "recommendations = get_recommendations('lost in nature')\n",
    "print(recommendations)"
   ]
  }
 ],
 "metadata": {
  "kernelspec": {
   "display_name": "env",
   "language": "python",
   "name": "python3"
  },
  "language_info": {
   "codemirror_mode": {
    "name": "ipython",
    "version": 3
   },
   "file_extension": ".py",
   "mimetype": "text/x-python",
   "name": "python",
   "nbconvert_exporter": "python",
   "pygments_lexer": "ipython3",
   "version": "3.11.0b5"
  }
 },
 "nbformat": 4,
 "nbformat_minor": 2
}

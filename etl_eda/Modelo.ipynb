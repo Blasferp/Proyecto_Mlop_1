{
 "cells": [
  {
   "cell_type": "code",
   "execution_count": 29,
   "metadata": {},
   "outputs": [],
   "source": [
    "import pandas as pd\n",
    "import pyarrow.parquet as pq\n",
    "from sklearn.feature_extraction.text import TfidfVectorizer\n",
    "from sklearn.metrics.pairwise import linear_kernel\n"
   ]
  },
  {
   "cell_type": "code",
   "execution_count": 30,
   "metadata": {},
   "outputs": [],
   "source": [
    "df_steam_games = pq.read_table('df_steam_games_limpio_final.parquet').to_pandas()"
   ]
  },
  {
   "cell_type": "code",
   "execution_count": 31,
   "metadata": {},
   "outputs": [],
   "source": [
    "# Selección de columnas relevantes\n",
    "data = df_steam_games[['id', 'app_name', 'genres', 'tags', 'specs']]"
   ]
  },
  {
   "cell_type": "code",
   "execution_count": 32,
   "metadata": {},
   "outputs": [
    {
     "name": "stderr",
     "output_type": "stream",
     "text": [
      "C:\\Users\\Blasferp\\AppData\\Local\\Temp\\ipykernel_15888\\2149226059.py:2: SettingWithCopyWarning: \n",
      "A value is trying to be set on a copy of a slice from a DataFrame.\n",
      "Try using .loc[row_indexer,col_indexer] = value instead\n",
      "\n",
      "See the caveats in the documentation: https://pandas.pydata.org/pandas-docs/stable/user_guide/indexing.html#returning-a-view-versus-a-copy\n",
      "  data['combined_features'] = data['genres'] + ' ' + data['tags'] + ' ' + data['specs']\n"
     ]
    }
   ],
   "source": [
    "# Limpieza y preprocesamiento de texto\n",
    "data['combined_features'] = data['genres'] + ' ' + data['tags'] + ' ' + data['specs']"
   ]
  },
  {
   "cell_type": "code",
   "execution_count": 33,
   "metadata": {},
   "outputs": [
    {
     "data": {
      "text/plain": [
       "(2020050, 6)"
      ]
     },
     "execution_count": 33,
     "metadata": {},
     "output_type": "execute_result"
    }
   ],
   "source": [
    "data.shape"
   ]
  },
  {
   "cell_type": "code",
   "execution_count": 34,
   "metadata": {},
   "outputs": [],
   "source": [
    "data = data.groupby('id').first().reset_index()"
   ]
  },
  {
   "cell_type": "code",
   "execution_count": 35,
   "metadata": {},
   "outputs": [],
   "source": [
    "data = data[data['id']!=0]"
   ]
  },
  {
   "cell_type": "code",
   "execution_count": 36,
   "metadata": {},
   "outputs": [
    {
     "data": {
      "text/plain": [
       "30708"
      ]
     },
     "execution_count": 36,
     "metadata": {},
     "output_type": "execute_result"
    }
   ],
   "source": [
    "data['app_name'].nunique()"
   ]
  },
  {
   "cell_type": "code",
   "execution_count": 37,
   "metadata": {},
   "outputs": [],
   "source": [
    "data = data.sample(n=3500)"
   ]
  },
  {
   "cell_type": "code",
   "execution_count": 38,
   "metadata": {},
   "outputs": [
    {
     "data": {
      "text/plain": [
       "(3500, 6)"
      ]
     },
     "execution_count": 38,
     "metadata": {},
     "output_type": "execute_result"
    }
   ],
   "source": [
    "data.shape"
   ]
  },
  {
   "cell_type": "code",
   "execution_count": 39,
   "metadata": {},
   "outputs": [],
   "source": [
    "data.reset_index(drop=True, inplace=True)"
   ]
  },
  {
   "cell_type": "code",
   "execution_count": 40,
   "metadata": {},
   "outputs": [
    {
     "data": {
      "text/html": [
       "<div>\n",
       "<style scoped>\n",
       "    .dataframe tbody tr th:only-of-type {\n",
       "        vertical-align: middle;\n",
       "    }\n",
       "\n",
       "    .dataframe tbody tr th {\n",
       "        vertical-align: top;\n",
       "    }\n",
       "\n",
       "    .dataframe thead th {\n",
       "        text-align: right;\n",
       "    }\n",
       "</style>\n",
       "<table border=\"1\" class=\"dataframe\">\n",
       "  <thead>\n",
       "    <tr style=\"text-align: right;\">\n",
       "      <th></th>\n",
       "      <th>id</th>\n",
       "      <th>app_name</th>\n",
       "      <th>genres</th>\n",
       "      <th>tags</th>\n",
       "      <th>specs</th>\n",
       "      <th>combined_features</th>\n",
       "    </tr>\n",
       "  </thead>\n",
       "  <tbody>\n",
       "    <tr>\n",
       "      <th>0</th>\n",
       "      <td>665070</td>\n",
       "      <td>visual novel engine   export your game</td>\n",
       "      <td>design amp; illustration</td>\n",
       "      <td>design  illustration</td>\n",
       "      <td>downloadable content</td>\n",
       "      <td>design amp; illustration design  illustration ...</td>\n",
       "    </tr>\n",
       "    <tr>\n",
       "      <th>1</th>\n",
       "      <td>512670</td>\n",
       "      <td>winter novel   screensaver</td>\n",
       "      <td>casual</td>\n",
       "      <td>indie</td>\n",
       "      <td>single player</td>\n",
       "      <td>casual indie single player</td>\n",
       "    </tr>\n",
       "    <tr>\n",
       "      <th>2</th>\n",
       "      <td>417660</td>\n",
       "      <td>sex drive</td>\n",
       "      <td>none</td>\n",
       "      <td>movie</td>\n",
       "      <td>captions available</td>\n",
       "      <td>none movie captions available</td>\n",
       "    </tr>\n",
       "    <tr>\n",
       "      <th>3</th>\n",
       "      <td>493280</td>\n",
       "      <td>wallslide</td>\n",
       "      <td>action</td>\n",
       "      <td>early access</td>\n",
       "      <td>single player</td>\n",
       "      <td>action early access single player</td>\n",
       "    </tr>\n",
       "    <tr>\n",
       "      <th>4</th>\n",
       "      <td>352140</td>\n",
       "      <td>finders</td>\n",
       "      <td>casual</td>\n",
       "      <td>casual</td>\n",
       "      <td>single player</td>\n",
       "      <td>casual casual single player</td>\n",
       "    </tr>\n",
       "    <tr>\n",
       "      <th>...</th>\n",
       "      <td>...</td>\n",
       "      <td>...</td>\n",
       "      <td>...</td>\n",
       "      <td>...</td>\n",
       "      <td>...</td>\n",
       "      <td>...</td>\n",
       "    </tr>\n",
       "    <tr>\n",
       "      <th>3495</th>\n",
       "      <td>210068</td>\n",
       "      <td>street fighter x tekken: street fighter swap c...</td>\n",
       "      <td>action</td>\n",
       "      <td>action</td>\n",
       "      <td>single player</td>\n",
       "      <td>action action single player</td>\n",
       "    </tr>\n",
       "    <tr>\n",
       "      <th>3496</th>\n",
       "      <td>511410</td>\n",
       "      <td>tiger  bunny the movie 2: the rising</td>\n",
       "      <td>none</td>\n",
       "      <td>anime</td>\n",
       "      <td>none</td>\n",
       "      <td>none anime none</td>\n",
       "    </tr>\n",
       "    <tr>\n",
       "      <th>3497</th>\n",
       "      <td>259130</td>\n",
       "      <td>wasteland 1   the original classic</td>\n",
       "      <td>adventure</td>\n",
       "      <td>rpg</td>\n",
       "      <td>single player</td>\n",
       "      <td>adventure rpg single player</td>\n",
       "    </tr>\n",
       "    <tr>\n",
       "      <th>3498</th>\n",
       "      <td>206091</td>\n",
       "      <td>rocksmith   radiohead   bodysnatchers</td>\n",
       "      <td>casual</td>\n",
       "      <td>casual</td>\n",
       "      <td>single player</td>\n",
       "      <td>casual casual single player</td>\n",
       "    </tr>\n",
       "    <tr>\n",
       "      <th>3499</th>\n",
       "      <td>329610</td>\n",
       "      <td>r.b.i. baseball 15</td>\n",
       "      <td>simulation</td>\n",
       "      <td>sports</td>\n",
       "      <td>single player</td>\n",
       "      <td>simulation sports single player</td>\n",
       "    </tr>\n",
       "  </tbody>\n",
       "</table>\n",
       "<p>3500 rows × 6 columns</p>\n",
       "</div>"
      ],
      "text/plain": [
       "          id                                           app_name  \\\n",
       "0     665070             visual novel engine   export your game   \n",
       "1     512670                         winter novel   screensaver   \n",
       "2     417660                                          sex drive   \n",
       "3     493280                                          wallslide   \n",
       "4     352140                                            finders   \n",
       "...      ...                                                ...   \n",
       "3495  210068  street fighter x tekken: street fighter swap c...   \n",
       "3496  511410               tiger  bunny the movie 2: the rising   \n",
       "3497  259130                 wasteland 1   the original classic   \n",
       "3498  206091              rocksmith   radiohead   bodysnatchers   \n",
       "3499  329610                                 r.b.i. baseball 15   \n",
       "\n",
       "                        genres                  tags                 specs  \\\n",
       "0     design amp; illustration  design  illustration  downloadable content   \n",
       "1                       casual                 indie         single player   \n",
       "2                         none                 movie    captions available   \n",
       "3                       action          early access         single player   \n",
       "4                       casual                casual         single player   \n",
       "...                        ...                   ...                   ...   \n",
       "3495                    action                action         single player   \n",
       "3496                      none                 anime                  none   \n",
       "3497                 adventure                   rpg         single player   \n",
       "3498                    casual                casual         single player   \n",
       "3499                simulation                sports         single player   \n",
       "\n",
       "                                      combined_features  \n",
       "0     design amp; illustration design  illustration ...  \n",
       "1                            casual indie single player  \n",
       "2                         none movie captions available  \n",
       "3                     action early access single player  \n",
       "4                           casual casual single player  \n",
       "...                                                 ...  \n",
       "3495                        action action single player  \n",
       "3496                                    none anime none  \n",
       "3497                        adventure rpg single player  \n",
       "3498                        casual casual single player  \n",
       "3499                    simulation sports single player  \n",
       "\n",
       "[3500 rows x 6 columns]"
      ]
     },
     "execution_count": 40,
     "metadata": {},
     "output_type": "execute_result"
    }
   ],
   "source": [
    "data"
   ]
  },
  {
   "cell_type": "code",
   "execution_count": 41,
   "metadata": {},
   "outputs": [
    {
     "data": {
      "text/html": [
       "<div>\n",
       "<style scoped>\n",
       "    .dataframe tbody tr th:only-of-type {\n",
       "        vertical-align: middle;\n",
       "    }\n",
       "\n",
       "    .dataframe tbody tr th {\n",
       "        vertical-align: top;\n",
       "    }\n",
       "\n",
       "    .dataframe thead th {\n",
       "        text-align: right;\n",
       "    }\n",
       "</style>\n",
       "<table border=\"1\" class=\"dataframe\">\n",
       "  <thead>\n",
       "    <tr style=\"text-align: right;\">\n",
       "      <th></th>\n",
       "      <th>id</th>\n",
       "      <th>app_name</th>\n",
       "      <th>genres</th>\n",
       "      <th>tags</th>\n",
       "      <th>specs</th>\n",
       "      <th>combined_features</th>\n",
       "    </tr>\n",
       "  </thead>\n",
       "  <tbody>\n",
       "    <tr>\n",
       "      <th>0</th>\n",
       "      <td>665070</td>\n",
       "      <td>visual novel engine   export your game</td>\n",
       "      <td>design amp; illustration</td>\n",
       "      <td>design  illustration</td>\n",
       "      <td>downloadable content</td>\n",
       "      <td>design amp; illustration design  illustration ...</td>\n",
       "    </tr>\n",
       "    <tr>\n",
       "      <th>1</th>\n",
       "      <td>512670</td>\n",
       "      <td>winter novel   screensaver</td>\n",
       "      <td>casual</td>\n",
       "      <td>indie</td>\n",
       "      <td>single player</td>\n",
       "      <td>casual indie single player</td>\n",
       "    </tr>\n",
       "    <tr>\n",
       "      <th>2</th>\n",
       "      <td>417660</td>\n",
       "      <td>sex drive</td>\n",
       "      <td>none</td>\n",
       "      <td>movie</td>\n",
       "      <td>captions available</td>\n",
       "      <td>none movie captions available</td>\n",
       "    </tr>\n",
       "    <tr>\n",
       "      <th>3</th>\n",
       "      <td>493280</td>\n",
       "      <td>wallslide</td>\n",
       "      <td>action</td>\n",
       "      <td>early access</td>\n",
       "      <td>single player</td>\n",
       "      <td>action early access single player</td>\n",
       "    </tr>\n",
       "    <tr>\n",
       "      <th>4</th>\n",
       "      <td>352140</td>\n",
       "      <td>finders</td>\n",
       "      <td>casual</td>\n",
       "      <td>casual</td>\n",
       "      <td>single player</td>\n",
       "      <td>casual casual single player</td>\n",
       "    </tr>\n",
       "    <tr>\n",
       "      <th>5</th>\n",
       "      <td>223830</td>\n",
       "      <td>xenonauts</td>\n",
       "      <td>indie</td>\n",
       "      <td>strategy</td>\n",
       "      <td>single player</td>\n",
       "      <td>indie strategy single player</td>\n",
       "    </tr>\n",
       "    <tr>\n",
       "      <th>6</th>\n",
       "      <td>678500</td>\n",
       "      <td>the climber</td>\n",
       "      <td>action</td>\n",
       "      <td>adventure</td>\n",
       "      <td>single player</td>\n",
       "      <td>action adventure single player</td>\n",
       "    </tr>\n",
       "    <tr>\n",
       "      <th>7</th>\n",
       "      <td>542710</td>\n",
       "      <td>dessert storm</td>\n",
       "      <td>casual</td>\n",
       "      <td>casual</td>\n",
       "      <td>single player</td>\n",
       "      <td>casual casual single player</td>\n",
       "    </tr>\n",
       "    <tr>\n",
       "      <th>8</th>\n",
       "      <td>508771</td>\n",
       "      <td>chronicle: runescape legends   epic pack</td>\n",
       "      <td>adventure</td>\n",
       "      <td>strategy</td>\n",
       "      <td>single player</td>\n",
       "      <td>adventure strategy single player</td>\n",
       "    </tr>\n",
       "    <tr>\n",
       "      <th>9</th>\n",
       "      <td>284990</td>\n",
       "      <td>solarix</td>\n",
       "      <td>action</td>\n",
       "      <td>action</td>\n",
       "      <td>single player</td>\n",
       "      <td>action action single player</td>\n",
       "    </tr>\n",
       "  </tbody>\n",
       "</table>\n",
       "</div>"
      ],
      "text/plain": [
       "       id                                  app_name                    genres  \\\n",
       "0  665070    visual novel engine   export your game  design amp; illustration   \n",
       "1  512670                winter novel   screensaver                    casual   \n",
       "2  417660                                 sex drive                      none   \n",
       "3  493280                                 wallslide                    action   \n",
       "4  352140                                   finders                    casual   \n",
       "5  223830                                 xenonauts                     indie   \n",
       "6  678500                               the climber                    action   \n",
       "7  542710                             dessert storm                    casual   \n",
       "8  508771  chronicle: runescape legends   epic pack                 adventure   \n",
       "9  284990                                   solarix                    action   \n",
       "\n",
       "                   tags                 specs  \\\n",
       "0  design  illustration  downloadable content   \n",
       "1                 indie         single player   \n",
       "2                 movie    captions available   \n",
       "3          early access         single player   \n",
       "4                casual         single player   \n",
       "5              strategy         single player   \n",
       "6             adventure         single player   \n",
       "7                casual         single player   \n",
       "8              strategy         single player   \n",
       "9                action         single player   \n",
       "\n",
       "                                   combined_features  \n",
       "0  design amp; illustration design  illustration ...  \n",
       "1                         casual indie single player  \n",
       "2                      none movie captions available  \n",
       "3                  action early access single player  \n",
       "4                        casual casual single player  \n",
       "5                       indie strategy single player  \n",
       "6                     action adventure single player  \n",
       "7                        casual casual single player  \n",
       "8                   adventure strategy single player  \n",
       "9                        action action single player  "
      ]
     },
     "execution_count": 41,
     "metadata": {},
     "output_type": "execute_result"
    }
   ],
   "source": [
    "data.head(10)"
   ]
  },
  {
   "cell_type": "code",
   "execution_count": 53,
   "metadata": {},
   "outputs": [
    {
     "data": {
      "text/plain": [
       "app_name\n",
       "altitude                                                   2\n",
       "nasway                                                     1\n",
       "fsx: steam edition   piper pa 38 tomahawk ii add on        1\n",
       "rogue singularity                                          1\n",
       "graviteam tactics: zhalanashkol 1969                       1\n",
       "                                                          ..\n",
       "lost in nature                                             1\n",
       "colorless life                                             1\n",
       "fantasy grounds   mini dungeon #005: the soularium (5e)    1\n",
       "army men: toys in space                                    1\n",
       "disgraced revolutionarys edition dlc                       1\n",
       "Name: count, Length: 3499, dtype: int64"
      ]
     },
     "execution_count": 53,
     "metadata": {},
     "output_type": "execute_result"
    }
   ],
   "source": [
    "data['app_name'].value_counts()"
   ]
  },
  {
   "cell_type": "code",
   "execution_count": 43,
   "metadata": {},
   "outputs": [],
   "source": [
    "import pyarrow.parquet as pq\n",
    "data.to_parquet('df_endopoint6.parquet')"
   ]
  },
  {
   "cell_type": "code",
   "execution_count": 44,
   "metadata": {},
   "outputs": [],
   "source": [
    "from sklearn.feature_extraction.text import CountVectorizer\n",
    "from sklearn.metrics.pairwise import cosine_similarity"
   ]
  },
  {
   "cell_type": "code",
   "execution_count": 45,
   "metadata": {},
   "outputs": [],
   "source": [
    "CV = CountVectorizer()\n",
    "converted_metrix = CV.fit_transform(data['combined_features'])"
   ]
  },
  {
   "cell_type": "code",
   "execution_count": 46,
   "metadata": {},
   "outputs": [],
   "source": [
    "cosine_similarity = cosine_similarity(converted_metrix)"
   ]
  },
  {
   "cell_type": "code",
   "execution_count": 48,
   "metadata": {},
   "outputs": [],
   "source": [
    "def get_recommendations(app_name, cosine_sim=cosine_similarity ):\n",
    "    idx = data[data['app_name'] == app_name].index[0]\n",
    "    sim_scores = list(enumerate(cosine_sim[idx]))\n",
    "    sim_scores = sorted(sim_scores, key=lambda x: x[1], reverse=True)\n",
    "    sim_scores = sim_scores[1:6]  # Top 10 juegos similares\n",
    "    game_indices = [i[0] for i in sim_scores]\n",
    "    return data['app_name'].iloc[game_indices]\n",
    "\n"
   ]
  },
  {
   "cell_type": "code",
   "execution_count": 49,
   "metadata": {},
   "outputs": [
    {
     "data": {
      "text/plain": [
       "['Matriz1.pkl']"
      ]
     },
     "execution_count": 49,
     "metadata": {},
     "output_type": "execute_result"
    }
   ],
   "source": [
    "# guardo la matriz\n",
    "\n",
    "import joblib #pickle es alternativa\n",
    "\n",
    "joblib.dump(cosine_similarity, 'Matriz1.pkl', compress=1)"
   ]
  },
  {
   "cell_type": "code",
   "execution_count": 50,
   "metadata": {},
   "outputs": [],
   "source": [
    "import joblib\n",
    "with open('Matriz1.pkl', 'rb') as file:\n",
    "        modelo = joblib.load(file)\n",
    "\n",
    "data = pd.read_parquet('df_prueba.parquet')"
   ]
  },
  {
   "cell_type": "code",
   "execution_count": 51,
   "metadata": {},
   "outputs": [
    {
     "data": {
      "text/plain": [
       "(3500, 6)"
      ]
     },
     "execution_count": 51,
     "metadata": {},
     "output_type": "execute_result"
    }
   ],
   "source": [
    "data.shape"
   ]
  },
  {
   "cell_type": "code",
   "execution_count": 56,
   "metadata": {},
   "outputs": [
    {
     "name": "stdout",
     "output_type": "stream",
     "text": [
      "11                                 regimental chess\n",
      "21                           on the path remastered\n",
      "26    fourchords guitar karaoke   madonna song pack\n",
      "27                                deus ex: revision\n",
      "36                                         smogland\n",
      "Name: app_name, dtype: object\n"
     ]
    }
   ],
   "source": [
    "recommendations = get_recommendations('lost in nature')\n",
    "print(recommendations)"
   ]
  }
 ],
 "metadata": {
  "kernelspec": {
   "display_name": "env",
   "language": "python",
   "name": "python3"
  },
  "language_info": {
   "codemirror_mode": {
    "name": "ipython",
    "version": 3
   },
   "file_extension": ".py",
   "mimetype": "text/x-python",
   "name": "python",
   "nbconvert_exporter": "python",
   "pygments_lexer": "ipython3",
   "version": "3.11.0b5"
  }
 },
 "nbformat": 4,
 "nbformat_minor": 2
}

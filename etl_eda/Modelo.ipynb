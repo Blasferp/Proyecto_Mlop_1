{
 "cells": [
  {
   "cell_type": "code",
   "execution_count": 1,
   "metadata": {},
   "outputs": [],
   "source": [
    "import pandas as pd\n",
    "import pyarrow.parquet as pq\n",
    "from sklearn.feature_extraction.text import TfidfVectorizer\n",
    "from sklearn.metrics.pairwise import linear_kernel\n"
   ]
  },
  {
   "cell_type": "code",
   "execution_count": 2,
   "metadata": {},
   "outputs": [],
   "source": [
    "df_steam_games = pq.read_table('df_steam_games_limpio_final.parquet').to_pandas()"
   ]
  },
  {
   "cell_type": "code",
   "execution_count": 3,
   "metadata": {},
   "outputs": [],
   "source": [
    "# Selección de columnas relevantes\n",
    "data = df_steam_games[['id', 'app_name', 'genres', 'tags', 'specs']]"
   ]
  },
  {
   "cell_type": "code",
   "execution_count": 4,
   "metadata": {},
   "outputs": [
    {
     "name": "stderr",
     "output_type": "stream",
     "text": [
      "C:\\Users\\Blasferp\\AppData\\Local\\Temp\\ipykernel_4352\\2149226059.py:2: SettingWithCopyWarning: \n",
      "A value is trying to be set on a copy of a slice from a DataFrame.\n",
      "Try using .loc[row_indexer,col_indexer] = value instead\n",
      "\n",
      "See the caveats in the documentation: https://pandas.pydata.org/pandas-docs/stable/user_guide/indexing.html#returning-a-view-versus-a-copy\n",
      "  data['combined_features'] = data['genres'] + ' ' + data['tags'] + ' ' + data['specs']\n"
     ]
    }
   ],
   "source": [
    "# Limpieza y preprocesamiento de texto\n",
    "data['combined_features'] = data['genres'] + ' ' + data['tags'] + ' ' + data['specs']"
   ]
  },
  {
   "cell_type": "code",
   "execution_count": 5,
   "metadata": {},
   "outputs": [
    {
     "data": {
      "text/plain": [
       "(2020050, 6)"
      ]
     },
     "execution_count": 5,
     "metadata": {},
     "output_type": "execute_result"
    }
   ],
   "source": [
    "data.shape"
   ]
  },
  {
   "cell_type": "code",
   "execution_count": 6,
   "metadata": {},
   "outputs": [],
   "source": [
    "data = data.groupby('id').first().reset_index()"
   ]
  },
  {
   "cell_type": "code",
   "execution_count": 7,
   "metadata": {},
   "outputs": [],
   "source": [
    "data = data[data['id']!=0]"
   ]
  },
  {
   "cell_type": "code",
   "execution_count": 8,
   "metadata": {},
   "outputs": [
    {
     "data": {
      "text/plain": [
       "30708"
      ]
     },
     "execution_count": 8,
     "metadata": {},
     "output_type": "execute_result"
    }
   ],
   "source": [
    "data['app_name'].nunique()"
   ]
  },
  {
   "cell_type": "code",
   "execution_count": 9,
   "metadata": {},
   "outputs": [],
   "source": [
    "data = data.sample(n=3500)"
   ]
  },
  {
   "cell_type": "code",
   "execution_count": 10,
   "metadata": {},
   "outputs": [
    {
     "data": {
      "text/plain": [
       "(3500, 6)"
      ]
     },
     "execution_count": 10,
     "metadata": {},
     "output_type": "execute_result"
    }
   ],
   "source": [
    "data.shape"
   ]
  },
  {
   "cell_type": "code",
   "execution_count": 11,
   "metadata": {},
   "outputs": [],
   "source": [
    "data.reset_index(drop=True, inplace=True)"
   ]
  },
  {
   "cell_type": "code",
   "execution_count": 12,
   "metadata": {},
   "outputs": [
    {
     "data": {
      "text/html": [
       "<div>\n",
       "<style scoped>\n",
       "    .dataframe tbody tr th:only-of-type {\n",
       "        vertical-align: middle;\n",
       "    }\n",
       "\n",
       "    .dataframe tbody tr th {\n",
       "        vertical-align: top;\n",
       "    }\n",
       "\n",
       "    .dataframe thead th {\n",
       "        text-align: right;\n",
       "    }\n",
       "</style>\n",
       "<table border=\"1\" class=\"dataframe\">\n",
       "  <thead>\n",
       "    <tr style=\"text-align: right;\">\n",
       "      <th></th>\n",
       "      <th>id</th>\n",
       "      <th>app_name</th>\n",
       "      <th>genres</th>\n",
       "      <th>tags</th>\n",
       "      <th>specs</th>\n",
       "      <th>combined_features</th>\n",
       "    </tr>\n",
       "  </thead>\n",
       "  <tbody>\n",
       "    <tr>\n",
       "      <th>0</th>\n",
       "      <td>446610</td>\n",
       "      <td>bunny bounce</td>\n",
       "      <td>adventure</td>\n",
       "      <td>nudity</td>\n",
       "      <td>single player</td>\n",
       "      <td>adventure nudity single player</td>\n",
       "    </tr>\n",
       "    <tr>\n",
       "      <th>1</th>\n",
       "      <td>382350</td>\n",
       "      <td>devils bluff</td>\n",
       "      <td>action</td>\n",
       "      <td>indie</td>\n",
       "      <td>multi player</td>\n",
       "      <td>action indie multi player</td>\n",
       "    </tr>\n",
       "    <tr>\n",
       "      <th>2</th>\n",
       "      <td>723880</td>\n",
       "      <td>new world: the tupis</td>\n",
       "      <td>action</td>\n",
       "      <td>early access</td>\n",
       "      <td>single player</td>\n",
       "      <td>action early access single player</td>\n",
       "    </tr>\n",
       "    <tr>\n",
       "      <th>3</th>\n",
       "      <td>80000</td>\n",
       "      <td>apox</td>\n",
       "      <td>action</td>\n",
       "      <td>strategy</td>\n",
       "      <td>single player</td>\n",
       "      <td>action strategy single player</td>\n",
       "    </tr>\n",
       "    <tr>\n",
       "      <th>4</th>\n",
       "      <td>620780</td>\n",
       "      <td>fantasy grounds   blue dragons (token pack)</td>\n",
       "      <td>indie</td>\n",
       "      <td>strategy</td>\n",
       "      <td>multi player</td>\n",
       "      <td>indie strategy multi player</td>\n",
       "    </tr>\n",
       "    <tr>\n",
       "      <th>...</th>\n",
       "      <td>...</td>\n",
       "      <td>...</td>\n",
       "      <td>...</td>\n",
       "      <td>...</td>\n",
       "      <td>...</td>\n",
       "      <td>...</td>\n",
       "    </tr>\n",
       "    <tr>\n",
       "      <th>3495</th>\n",
       "      <td>550335</td>\n",
       "      <td>arrange costume set elphelt</td>\n",
       "      <td>action</td>\n",
       "      <td>action</td>\n",
       "      <td>single player</td>\n",
       "      <td>action action single player</td>\n",
       "    </tr>\n",
       "    <tr>\n",
       "      <th>3496</th>\n",
       "      <td>706210</td>\n",
       "      <td>haul asteroid</td>\n",
       "      <td>action</td>\n",
       "      <td>indie</td>\n",
       "      <td>single player</td>\n",
       "      <td>action indie single player</td>\n",
       "    </tr>\n",
       "    <tr>\n",
       "      <th>3497</th>\n",
       "      <td>733230</td>\n",
       "      <td>cyber arena</td>\n",
       "      <td>none</td>\n",
       "      <td>action</td>\n",
       "      <td>single player</td>\n",
       "      <td>none action single player</td>\n",
       "    </tr>\n",
       "    <tr>\n",
       "      <th>3498</th>\n",
       "      <td>645690</td>\n",
       "      <td>fantasia of the wind   风之幻想曲</td>\n",
       "      <td>adventure</td>\n",
       "      <td>adventure</td>\n",
       "      <td>single player</td>\n",
       "      <td>adventure adventure single player</td>\n",
       "    </tr>\n",
       "    <tr>\n",
       "      <th>3499</th>\n",
       "      <td>244950</td>\n",
       "      <td>where is my heart</td>\n",
       "      <td>adventure</td>\n",
       "      <td>indie</td>\n",
       "      <td>single player</td>\n",
       "      <td>adventure indie single player</td>\n",
       "    </tr>\n",
       "  </tbody>\n",
       "</table>\n",
       "<p>3500 rows × 6 columns</p>\n",
       "</div>"
      ],
      "text/plain": [
       "          id                                     app_name     genres  \\\n",
       "0     446610                                 bunny bounce  adventure   \n",
       "1     382350                                 devils bluff     action   \n",
       "2     723880                         new world: the tupis     action   \n",
       "3      80000                                         apox     action   \n",
       "4     620780  fantasy grounds   blue dragons (token pack)      indie   \n",
       "...      ...                                          ...        ...   \n",
       "3495  550335                  arrange costume set elphelt     action   \n",
       "3496  706210                                haul asteroid     action   \n",
       "3497  733230                                  cyber arena       none   \n",
       "3498  645690                 fantasia of the wind   风之幻想曲  adventure   \n",
       "3499  244950                            where is my heart  adventure   \n",
       "\n",
       "              tags          specs                  combined_features  \n",
       "0           nudity  single player     adventure nudity single player  \n",
       "1            indie   multi player          action indie multi player  \n",
       "2     early access  single player  action early access single player  \n",
       "3         strategy  single player      action strategy single player  \n",
       "4         strategy   multi player        indie strategy multi player  \n",
       "...            ...            ...                                ...  \n",
       "3495        action  single player        action action single player  \n",
       "3496         indie  single player         action indie single player  \n",
       "3497        action  single player          none action single player  \n",
       "3498     adventure  single player  adventure adventure single player  \n",
       "3499         indie  single player      adventure indie single player  \n",
       "\n",
       "[3500 rows x 6 columns]"
      ]
     },
     "execution_count": 12,
     "metadata": {},
     "output_type": "execute_result"
    }
   ],
   "source": [
    "data"
   ]
  },
  {
   "cell_type": "code",
   "execution_count": 13,
   "metadata": {},
   "outputs": [
    {
     "data": {
      "text/html": [
       "<div>\n",
       "<style scoped>\n",
       "    .dataframe tbody tr th:only-of-type {\n",
       "        vertical-align: middle;\n",
       "    }\n",
       "\n",
       "    .dataframe tbody tr th {\n",
       "        vertical-align: top;\n",
       "    }\n",
       "\n",
       "    .dataframe thead th {\n",
       "        text-align: right;\n",
       "    }\n",
       "</style>\n",
       "<table border=\"1\" class=\"dataframe\">\n",
       "  <thead>\n",
       "    <tr style=\"text-align: right;\">\n",
       "      <th></th>\n",
       "      <th>id</th>\n",
       "      <th>app_name</th>\n",
       "      <th>genres</th>\n",
       "      <th>tags</th>\n",
       "      <th>specs</th>\n",
       "      <th>combined_features</th>\n",
       "    </tr>\n",
       "  </thead>\n",
       "  <tbody>\n",
       "    <tr>\n",
       "      <th>0</th>\n",
       "      <td>446610</td>\n",
       "      <td>bunny bounce</td>\n",
       "      <td>adventure</td>\n",
       "      <td>nudity</td>\n",
       "      <td>single player</td>\n",
       "      <td>adventure nudity single player</td>\n",
       "    </tr>\n",
       "    <tr>\n",
       "      <th>1</th>\n",
       "      <td>382350</td>\n",
       "      <td>devils bluff</td>\n",
       "      <td>action</td>\n",
       "      <td>indie</td>\n",
       "      <td>multi player</td>\n",
       "      <td>action indie multi player</td>\n",
       "    </tr>\n",
       "    <tr>\n",
       "      <th>2</th>\n",
       "      <td>723880</td>\n",
       "      <td>new world: the tupis</td>\n",
       "      <td>action</td>\n",
       "      <td>early access</td>\n",
       "      <td>single player</td>\n",
       "      <td>action early access single player</td>\n",
       "    </tr>\n",
       "    <tr>\n",
       "      <th>3</th>\n",
       "      <td>80000</td>\n",
       "      <td>apox</td>\n",
       "      <td>action</td>\n",
       "      <td>strategy</td>\n",
       "      <td>single player</td>\n",
       "      <td>action strategy single player</td>\n",
       "    </tr>\n",
       "    <tr>\n",
       "      <th>4</th>\n",
       "      <td>620780</td>\n",
       "      <td>fantasy grounds   blue dragons (token pack)</td>\n",
       "      <td>indie</td>\n",
       "      <td>strategy</td>\n",
       "      <td>multi player</td>\n",
       "      <td>indie strategy multi player</td>\n",
       "    </tr>\n",
       "    <tr>\n",
       "      <th>5</th>\n",
       "      <td>341440</td>\n",
       "      <td>banzai pecan: the last hope for the young century</td>\n",
       "      <td>action</td>\n",
       "      <td>action</td>\n",
       "      <td>single player</td>\n",
       "      <td>action action single player</td>\n",
       "    </tr>\n",
       "    <tr>\n",
       "      <th>6</th>\n",
       "      <td>741090</td>\n",
       "      <td>mountains  clouds jewel match</td>\n",
       "      <td>adventure</td>\n",
       "      <td>strategy</td>\n",
       "      <td>single player</td>\n",
       "      <td>adventure strategy single player</td>\n",
       "    </tr>\n",
       "    <tr>\n",
       "      <th>7</th>\n",
       "      <td>533601</td>\n",
       "      <td>riders of icarus: heroic grim riders package</td>\n",
       "      <td>adventure</td>\n",
       "      <td>adventure</td>\n",
       "      <td>single player</td>\n",
       "      <td>adventure adventure single player</td>\n",
       "    </tr>\n",
       "    <tr>\n",
       "      <th>8</th>\n",
       "      <td>346440</td>\n",
       "      <td>musclecar online</td>\n",
       "      <td>casual</td>\n",
       "      <td>racing</td>\n",
       "      <td>multi player</td>\n",
       "      <td>casual racing multi player</td>\n",
       "    </tr>\n",
       "    <tr>\n",
       "      <th>9</th>\n",
       "      <td>291690</td>\n",
       "      <td>empathy: path of whispers</td>\n",
       "      <td>adventure</td>\n",
       "      <td>adventure</td>\n",
       "      <td>single player</td>\n",
       "      <td>adventure adventure single player</td>\n",
       "    </tr>\n",
       "  </tbody>\n",
       "</table>\n",
       "</div>"
      ],
      "text/plain": [
       "       id                                           app_name     genres  \\\n",
       "0  446610                                       bunny bounce  adventure   \n",
       "1  382350                                       devils bluff     action   \n",
       "2  723880                               new world: the tupis     action   \n",
       "3   80000                                               apox     action   \n",
       "4  620780        fantasy grounds   blue dragons (token pack)      indie   \n",
       "5  341440  banzai pecan: the last hope for the young century     action   \n",
       "6  741090                      mountains  clouds jewel match  adventure   \n",
       "7  533601       riders of icarus: heroic grim riders package  adventure   \n",
       "8  346440                                   musclecar online     casual   \n",
       "9  291690                          empathy: path of whispers  adventure   \n",
       "\n",
       "           tags          specs                  combined_features  \n",
       "0        nudity  single player     adventure nudity single player  \n",
       "1         indie   multi player          action indie multi player  \n",
       "2  early access  single player  action early access single player  \n",
       "3      strategy  single player      action strategy single player  \n",
       "4      strategy   multi player        indie strategy multi player  \n",
       "5        action  single player        action action single player  \n",
       "6      strategy  single player   adventure strategy single player  \n",
       "7     adventure  single player  adventure adventure single player  \n",
       "8        racing   multi player         casual racing multi player  \n",
       "9     adventure  single player  adventure adventure single player  "
      ]
     },
     "execution_count": 13,
     "metadata": {},
     "output_type": "execute_result"
    }
   ],
   "source": [
    "data.head(10)"
   ]
  },
  {
   "cell_type": "code",
   "execution_count": 14,
   "metadata": {},
   "outputs": [
    {
     "data": {
      "text/plain": [
       "app_name\n",
       "colony                           2\n",
       "bunny bounce                     1\n",
       "m.a.c.e. tower defense           1\n",
       "reus                             1\n",
       "moshe kasher: live in oakland    1\n",
       "                                ..\n",
       "supermagical                     1\n",
       "fate of the world: denial        1\n",
       "olsons boxing challenge          1\n",
       "rogue warrior                    1\n",
       "where is my heart                1\n",
       "Name: count, Length: 3499, dtype: int64"
      ]
     },
     "execution_count": 14,
     "metadata": {},
     "output_type": "execute_result"
    }
   ],
   "source": [
    "data['app_name'].value_counts()"
   ]
  },
  {
   "cell_type": "code",
   "execution_count": 16,
   "metadata": {},
   "outputs": [],
   "source": [
    "import pyarrow.parquet as pq\n",
    "data.to_parquet('df_reconocimiento.parquet')"
   ]
  },
  {
   "cell_type": "code",
   "execution_count": 17,
   "metadata": {},
   "outputs": [],
   "source": [
    "from sklearn.feature_extraction.text import CountVectorizer\n",
    "from sklearn.metrics.pairwise import cosine_similarity"
   ]
  },
  {
   "cell_type": "code",
   "execution_count": 18,
   "metadata": {},
   "outputs": [],
   "source": [
    "CV = CountVectorizer()\n",
    "converted_metrix = CV.fit_transform(data['combined_features'])"
   ]
  },
  {
   "cell_type": "code",
   "execution_count": 19,
   "metadata": {},
   "outputs": [],
   "source": [
    "cosine_similarity = cosine_similarity(converted_metrix)"
   ]
  },
  {
   "cell_type": "code",
   "execution_count": 21,
   "metadata": {},
   "outputs": [],
   "source": [
    "def get_recommendations(app_name, cosine_sim=cosine_similarity ):\n",
    "    idx = data[data['app_name'] == app_name].index[0]\n",
    "    sim_scores = list(enumerate(cosine_sim[idx]))\n",
    "    sim_scores = sorted(sim_scores, key=lambda x: x[1], reverse=True)\n",
    "    sim_scores = sim_scores[1:6]  # Top 10 juegos similares\n",
    "    game_indices = [i[0] for i in sim_scores]\n",
    "    return data['app_name'].iloc[game_indices]\n",
    "\n"
   ]
  },
  {
   "cell_type": "code",
   "execution_count": 23,
   "metadata": {},
   "outputs": [
    {
     "data": {
      "text/plain": [
       "['Matriz.pkl']"
      ]
     },
     "execution_count": 23,
     "metadata": {},
     "output_type": "execute_result"
    }
   ],
   "source": [
    "# guardo la matriz\n",
    "\n",
    "import joblib #pickle es alternativa\n",
    "\n",
    "joblib.dump(cosine_similarity, 'Matriz.pkl', compress=1)"
   ]
  },
  {
   "cell_type": "code",
   "execution_count": 25,
   "metadata": {},
   "outputs": [],
   "source": [
    "import joblib\n",
    "with open('Matriz.pkl', 'rb') as file:\n",
    "        modelo = joblib.load(file)\n",
    "\n",
    "data = pd.read_parquet('df_reconocimiento.parquet')"
   ]
  },
  {
   "cell_type": "code",
   "execution_count": 26,
   "metadata": {},
   "outputs": [
    {
     "data": {
      "text/plain": [
       "(3500, 6)"
      ]
     },
     "execution_count": 26,
     "metadata": {},
     "output_type": "execute_result"
    }
   ],
   "source": [
    "data.shape"
   ]
  },
  {
   "cell_type": "code",
   "execution_count": 27,
   "metadata": {},
   "outputs": [
    {
     "name": "stdout",
     "output_type": "stream",
     "text": [
      "40     moe mekuri sp  moe mekuri 1 vocal collection \n",
      "83                                     wobbly jungle\n",
      "95                             the depths of tolagal\n",
      "98                         madballs in babo:invasion\n",
      "120                                   warlocks tower\n",
      "Name: app_name, dtype: object\n"
     ]
    }
   ],
   "source": [
    "recommendations = get_recommendations('colony')\n",
    "print(recommendations)"
   ]
  }
 ],
 "metadata": {
  "kernelspec": {
   "display_name": "env",
   "language": "python",
   "name": "python3"
  },
  "language_info": {
   "codemirror_mode": {
    "name": "ipython",
    "version": 3
   },
   "file_extension": ".py",
   "mimetype": "text/x-python",
   "name": "python",
   "nbconvert_exporter": "python",
   "pygments_lexer": "ipython3",
   "version": "3.11.0b5"
  }
 },
 "nbformat": 4,
 "nbformat_minor": 2
}

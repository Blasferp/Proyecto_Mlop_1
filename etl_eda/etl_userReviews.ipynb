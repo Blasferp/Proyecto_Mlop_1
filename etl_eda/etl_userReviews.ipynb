{
 "cells": [
  {
   "cell_type": "markdown",
   "metadata": {},
   "source": [
    "## ETL archivo user_reviews"
   ]
  },
  {
   "cell_type": "code",
   "execution_count": 18,
   "metadata": {},
   "outputs": [],
   "source": [
    "import pandas as pd\n",
    "import pyarrow.parquet as pq\n",
    "from numpy import nan"
   ]
  },
  {
   "cell_type": "code",
   "execution_count": 3,
   "metadata": {},
   "outputs": [],
   "source": [
    "#Se carga el archivo para trabajarlo\n",
    "df_reviews = pq.read_table('df_user_reviews.parquet').to_pandas()"
   ]
  },
  {
   "cell_type": "code",
   "execution_count": 4,
   "metadata": {},
   "outputs": [
    {
     "data": {
      "text/html": [
       "<div>\n",
       "<style scoped>\n",
       "    .dataframe tbody tr th:only-of-type {\n",
       "        vertical-align: middle;\n",
       "    }\n",
       "\n",
       "    .dataframe tbody tr th {\n",
       "        vertical-align: top;\n",
       "    }\n",
       "\n",
       "    .dataframe thead th {\n",
       "        text-align: right;\n",
       "    }\n",
       "</style>\n",
       "<table border=\"1\" class=\"dataframe\">\n",
       "  <thead>\n",
       "    <tr style=\"text-align: right;\">\n",
       "      <th></th>\n",
       "      <th>user_id</th>\n",
       "      <th>posted</th>\n",
       "      <th>item_id</th>\n",
       "      <th>recommend</th>\n",
       "      <th>review</th>\n",
       "    </tr>\n",
       "  </thead>\n",
       "  <tbody>\n",
       "    <tr>\n",
       "      <th>0</th>\n",
       "      <td>76561197970982479</td>\n",
       "      <td>2011</td>\n",
       "      <td>1250</td>\n",
       "      <td>true</td>\n",
       "      <td>simple yet with great replayability. in my opi...</td>\n",
       "    </tr>\n",
       "    <tr>\n",
       "      <th>1</th>\n",
       "      <td>76561197970982479</td>\n",
       "      <td>2011</td>\n",
       "      <td>22200</td>\n",
       "      <td>true</td>\n",
       "      <td>its unique and worth a playthrough.</td>\n",
       "    </tr>\n",
       "    <tr>\n",
       "      <th>2</th>\n",
       "      <td>76561197970982479</td>\n",
       "      <td>2011</td>\n",
       "      <td>43110</td>\n",
       "      <td>true</td>\n",
       "      <td>great atmosphere. the gunplay can be a bit chu...</td>\n",
       "    </tr>\n",
       "    <tr>\n",
       "      <th>3</th>\n",
       "      <td>js41637</td>\n",
       "      <td>2014</td>\n",
       "      <td>251610</td>\n",
       "      <td>true</td>\n",
       "      <td>i know what you think when you see this title ...</td>\n",
       "    </tr>\n",
       "    <tr>\n",
       "      <th>4</th>\n",
       "      <td>js41637</td>\n",
       "      <td>2013</td>\n",
       "      <td>227300</td>\n",
       "      <td>true</td>\n",
       "      <td>for a simple (its actually not all that simple...</td>\n",
       "    </tr>\n",
       "  </tbody>\n",
       "</table>\n",
       "</div>"
      ],
      "text/plain": [
       "             user_id posted  item_id recommend  \\\n",
       "0  76561197970982479   2011     1250      true   \n",
       "1  76561197970982479   2011    22200      true   \n",
       "2  76561197970982479   2011    43110      true   \n",
       "3            js41637   2014   251610      true   \n",
       "4            js41637   2013   227300      true   \n",
       "\n",
       "                                              review  \n",
       "0  simple yet with great replayability. in my opi...  \n",
       "1                its unique and worth a playthrough.  \n",
       "2  great atmosphere. the gunplay can be a bit chu...  \n",
       "3  i know what you think when you see this title ...  \n",
       "4  for a simple (its actually not all that simple...  "
      ]
     },
     "execution_count": 4,
     "metadata": {},
     "output_type": "execute_result"
    }
   ],
   "source": [
    "# Visualizamos las primeras filas del DataFrame para tener una idea de su estructura\n",
    "df_reviews.head()"
   ]
  },
  {
   "cell_type": "code",
   "execution_count": 5,
   "metadata": {},
   "outputs": [
    {
     "data": {
      "text/plain": [
       "Index(['user_id', 'posted', 'item_id', 'recommend', 'review'], dtype='object')"
      ]
     },
     "execution_count": 5,
     "metadata": {},
     "output_type": "execute_result"
    }
   ],
   "source": [
    "#Verificamos el nombre de las columnas.\n",
    "df_reviews.columns"
   ]
  },
  {
   "cell_type": "code",
   "execution_count": 7,
   "metadata": {},
   "outputs": [
    {
     "name": "stdout",
     "output_type": "stream",
     "text": [
      "<class 'pandas.core.frame.DataFrame'>\n",
      "Index: 59305 entries, 0 to 59332\n",
      "Data columns (total 5 columns):\n",
      " #   Column     Non-Null Count  Dtype \n",
      "---  ------     --------------  ----- \n",
      " 0   user_id    59305 non-null  object\n",
      " 1   posted     59305 non-null  object\n",
      " 2   item_id    59305 non-null  int64 \n",
      " 3   recommend  59305 non-null  object\n",
      " 4   review     59305 non-null  object\n",
      "dtypes: int64(1), object(4)\n",
      "memory usage: 2.7+ MB\n"
     ]
    }
   ],
   "source": [
    "#Para obtener información sobre los tipos de datos y la cantidad de valores no nulos.\n",
    "df_reviews.info()"
   ]
  },
  {
   "cell_type": "code",
   "execution_count": 12,
   "metadata": {},
   "outputs": [],
   "source": [
    "#Se eliminan los valres nulos de las filas\n",
    "df_reviews = df_reviews.dropna(how='all')\n"
   ]
  },
  {
   "cell_type": "code",
   "execution_count": 13,
   "metadata": {},
   "outputs": [
    {
     "data": {
      "text/plain": [
       "(59305, 5)"
      ]
     },
     "execution_count": 13,
     "metadata": {},
     "output_type": "execute_result"
    }
   ],
   "source": [
    "df_reviews.shape\n"
   ]
  },
  {
   "cell_type": "code",
   "execution_count": 14,
   "metadata": {},
   "outputs": [
    {
     "data": {
      "text/html": [
       "<div>\n",
       "<style scoped>\n",
       "    .dataframe tbody tr th:only-of-type {\n",
       "        vertical-align: middle;\n",
       "    }\n",
       "\n",
       "    .dataframe tbody tr th {\n",
       "        vertical-align: top;\n",
       "    }\n",
       "\n",
       "    .dataframe thead th {\n",
       "        text-align: right;\n",
       "    }\n",
       "</style>\n",
       "<table border=\"1\" class=\"dataframe\">\n",
       "  <thead>\n",
       "    <tr style=\"text-align: right;\">\n",
       "      <th></th>\n",
       "      <th>user_id</th>\n",
       "      <th>posted</th>\n",
       "      <th>item_id</th>\n",
       "      <th>recommend</th>\n",
       "      <th>review</th>\n",
       "    </tr>\n",
       "  </thead>\n",
       "  <tbody>\n",
       "    <tr>\n",
       "      <th>0</th>\n",
       "      <td>76561197970982479</td>\n",
       "      <td>2011</td>\n",
       "      <td>1250</td>\n",
       "      <td>true</td>\n",
       "      <td>simple yet with great replayability. in my opi...</td>\n",
       "    </tr>\n",
       "    <tr>\n",
       "      <th>1</th>\n",
       "      <td>76561197970982479</td>\n",
       "      <td>2011</td>\n",
       "      <td>22200</td>\n",
       "      <td>true</td>\n",
       "      <td>its unique and worth a playthrough.</td>\n",
       "    </tr>\n",
       "    <tr>\n",
       "      <th>2</th>\n",
       "      <td>76561197970982479</td>\n",
       "      <td>2011</td>\n",
       "      <td>43110</td>\n",
       "      <td>true</td>\n",
       "      <td>great atmosphere. the gunplay can be a bit chu...</td>\n",
       "    </tr>\n",
       "    <tr>\n",
       "      <th>3</th>\n",
       "      <td>js41637</td>\n",
       "      <td>2014</td>\n",
       "      <td>251610</td>\n",
       "      <td>true</td>\n",
       "      <td>i know what you think when you see this title ...</td>\n",
       "    </tr>\n",
       "    <tr>\n",
       "      <th>4</th>\n",
       "      <td>js41637</td>\n",
       "      <td>2013</td>\n",
       "      <td>227300</td>\n",
       "      <td>true</td>\n",
       "      <td>for a simple (its actually not all that simple...</td>\n",
       "    </tr>\n",
       "  </tbody>\n",
       "</table>\n",
       "</div>"
      ],
      "text/plain": [
       "             user_id posted  item_id recommend  \\\n",
       "0  76561197970982479   2011     1250      true   \n",
       "1  76561197970982479   2011    22200      true   \n",
       "2  76561197970982479   2011    43110      true   \n",
       "3            js41637   2014   251610      true   \n",
       "4            js41637   2013   227300      true   \n",
       "\n",
       "                                              review  \n",
       "0  simple yet with great replayability. in my opi...  \n",
       "1                its unique and worth a playthrough.  \n",
       "2  great atmosphere. the gunplay can be a bit chu...  \n",
       "3  i know what you think when you see this title ...  \n",
       "4  for a simple (its actually not all that simple...  "
      ]
     },
     "execution_count": 14,
     "metadata": {},
     "output_type": "execute_result"
    }
   ],
   "source": [
    "df_reviews.head()"
   ]
  },
  {
   "cell_type": "code",
   "execution_count": 15,
   "metadata": {},
   "outputs": [
    {
     "data": {
      "text/plain": [
       "recommend\n",
       "true     52473\n",
       "false     6832\n",
       "Name: count, dtype: int64"
      ]
     },
     "execution_count": 15,
     "metadata": {},
     "output_type": "execute_result"
    }
   ],
   "source": [
    "df_reviews['recommend'].value_counts()"
   ]
  },
  {
   "cell_type": "code",
   "execution_count": null,
   "metadata": {},
   "outputs": [],
   "source": [
    "#Se cuentan los valores nulos\n",
    "df_reviews['last_edited'].isnull().sum(), df_reviews['last_edited'].shape[0]"
   ]
  },
  {
   "cell_type": "code",
   "execution_count": null,
   "metadata": {},
   "outputs": [],
   "source": [
    "# Secrean dos variables para luego usarlas para el cambio de datos de las celdas\n",
    "lista1 = df_reviews['posted'].str.extract(r'(\\d{4})')\n",
    "lista2 = df_reviews['last_edited'].str.extract(r'(\\d{4})')"
   ]
  },
  {
   "cell_type": "code",
   "execution_count": null,
   "metadata": {},
   "outputs": [],
   "source": [
    "#Se reemplazan los valores \n",
    "\n",
    "for i in range(len(lista1)):\n",
    "  if lista2[0][i] is not nan:\n",
    "    lista1[0][i] = lista2[0][i]\n",
    "  else:\n",
    "    continue\n"
   ]
  },
  {
   "cell_type": "code",
   "execution_count": null,
   "metadata": {},
   "outputs": [],
   "source": [
    "df_reviews['posted'] = lista1\n",
    "df_reviews.head(3)"
   ]
  },
  {
   "cell_type": "code",
   "execution_count": null,
   "metadata": {},
   "outputs": [],
   "source": [
    "#Se elimina la columna funny por que no es relevante.\n",
    "\n",
    "funny = df_reviews['funny']\n",
    "df_reviews.drop('funny', axis=1, inplace=True)"
   ]
  },
  {
   "cell_type": "code",
   "execution_count": null,
   "metadata": {},
   "outputs": [],
   "source": [
    "df_reviews.tail(2)"
   ]
  },
  {
   "cell_type": "code",
   "execution_count": null,
   "metadata": {},
   "outputs": [],
   "source": [
    "df_reviews.dropna(subset=['item_id'], inplace=True)"
   ]
  },
  {
   "cell_type": "code",
   "execution_count": null,
   "metadata": {},
   "outputs": [],
   "source": [
    "df_reviews['user_id'].isnull().sum()"
   ]
  },
  {
   "cell_type": "code",
   "execution_count": null,
   "metadata": {},
   "outputs": [],
   "source": [
    "#Se eliminan columnas que no se usan\n",
    "df_reviews.drop(columns=['user_url', 'helpful', 'last_edited'],axis=1, inplace=True)"
   ]
  },
  {
   "cell_type": "code",
   "execution_count": null,
   "metadata": {},
   "outputs": [],
   "source": [
    " #Limpieza de caracteres especiales\n",
    " \n",
    "# Todos los strings en minúsculas\n",
    "df_reviews = df_reviews.apply(lambda x: x.astype(str).str.lower() if x.dtype == \"object\" else x)\n",
    "\n",
    "# Reemplaza '-' por ' ' en todas las columnas\n",
    "df_reviews = df_reviews.apply(lambda x: x.str.replace('-', ' ') if x.dtype == \"object\" else x)\n",
    "\n",
    "# Reemplaza '!' por '' en todas las columnas\n",
    "df_reviews = df_reviews.apply(lambda x: x.str.replace('!', '') if x.dtype == \"object\" else x)\n",
    "\n",
    "# Reemplaza '¡' por '' en todas las columnas\n",
    "df_reviews = df_reviews.apply(lambda x: x.str.replace('¡', '') if x.dtype == \"object\" else x)\n",
    "\n",
    "# Reemplaza '?' por '' en todas las columnas\n",
    "df_reviews = df_reviews.apply(lambda x: x.str.replace('?', '') if x.dtype == \"object\" else x)\n",
    "\n",
    "# Reemplaza '¿' por '' en todas las columnas\n",
    "df_reviews = df_reviews.apply(lambda x: x.str.replace('¿', '') if x.dtype == \"object\" else x)\n",
    "\n",
    "# Reemplaza '\"' por '' en todas las columnas\n",
    "df_reviews = df_reviews.apply(lambda x: x.str.replace('\"', '') if x.dtype == \"object\" else x)\n",
    "\n",
    "# Reemplaza ''' por '' en todas las columnas\n",
    "df_reviews = df_reviews.apply(lambda x: x.str.replace(\"'\", '') if x.dtype == \"object\" else x)\n",
    "\n",
    "# Reemplaza ',' por '' en todas las columnas\n",
    "df_reviews = df_reviews.apply(lambda x: x.str.replace(\",\", '') if x.dtype == \"object\" else x)\n",
    "\n",
    "# Reemplaza '&' por '' en todas las columnas\n",
    "df_reviews = df_reviews.apply(lambda x: x.str.replace(\"&\", '') if x.dtype == \"object\" else x)\n",
    "\n",
    "# Reemplaza \"''\" por '' en todas las columnas\n",
    "df_reviews = df_reviews.apply(lambda x: x.str.replace(\"''\", '') if x.dtype == \"object\" else x)\n",
    "\n",
    "# Reemplaza \"_\" por '' en todas las columnas\n",
    "df_reviews = df_reviews.apply(lambda x: x.str.replace(\"_\", '') if x.dtype == \"object\" else x)\n",
    "\n",
    "df_reviews.head()"
   ]
  },
  {
   "cell_type": "code",
   "execution_count": null,
   "metadata": {},
   "outputs": [],
   "source": [
    "df_reviews['item_id'] = df_reviews['item_id'].astype(int)"
   ]
  },
  {
   "cell_type": "code",
   "execution_count": null,
   "metadata": {},
   "outputs": [],
   "source": [
    "df_reviews.head(2)"
   ]
  },
  {
   "cell_type": "code",
   "execution_count": null,
   "metadata": {},
   "outputs": [],
   "source": [
    "import pyarrow.parquet as pq\n",
    "df_reviews.to_parquet('data/df_user_reviews.parquet')"
   ]
  },
  {
   "cell_type": "code",
   "execution_count": null,
   "metadata": {},
   "outputs": [],
   "source": []
  },
  {
   "cell_type": "code",
   "execution_count": null,
   "metadata": {},
   "outputs": [],
   "source": []
  }
 ],
 "metadata": {
  "kernelspec": {
   "display_name": "Python 3",
   "language": "python",
   "name": "python3"
  },
  "language_info": {
   "codemirror_mode": {
    "name": "ipython",
    "version": 3
   },
   "file_extension": ".py",
   "mimetype": "text/x-python",
   "name": "python",
   "nbconvert_exporter": "python",
   "pygments_lexer": "ipython3",
   "version": "3.11.0"
  }
 },
 "nbformat": 4,
 "nbformat_minor": 2
}

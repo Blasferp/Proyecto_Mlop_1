{
 "cells": [
  {
   "cell_type": "markdown",
   "metadata": {},
   "source": [
    "# Endopoint 1"
   ]
  },
  {
   "cell_type": "code",
   "execution_count": null,
   "metadata": {},
   "outputs": [],
   "source": [
    "import pandas as pd\n",
    "import pyarrow.parquet as pq\n",
    "from sklearn.feature_extraction.text import TfidfVectorizer\n",
    "from sklearn.metrics.pairwise import linear_kernel"
   ]
  },
  {
   "cell_type": "code",
   "execution_count": null,
   "metadata": {},
   "outputs": [],
   "source": [
    "df_steam_games = pq.read_table('steam_games.parquet').to_pandas()\n"
   ]
  },
  {
   "cell_type": "code",
   "execution_count": null,
   "metadata": {},
   "outputs": [],
   "source": [
    "df_steam_games.dropna(subset=['id'], inplace=True)\n",
    "df_steam_games.dropna(subset=['developer'], inplace=True)"
   ]
  },
  {
   "cell_type": "code",
   "execution_count": null,
   "metadata": {},
   "outputs": [],
   "source": [
    "df_steam_games.tail(5)"
   ]
  },
  {
   "cell_type": "code",
   "execution_count": null,
   "metadata": {},
   "outputs": [],
   "source": [
    "type(df_steam_games['id'][50000])"
   ]
  },
  {
   "cell_type": "code",
   "execution_count": null,
   "metadata": {},
   "outputs": [],
   "source": [
    "df_steam_games[df_steam_games['developer'] == 'none'].shape, df_steam_games.shape"
   ]
  },
  {
   "cell_type": "code",
   "execution_count": null,
   "metadata": {},
   "outputs": [],
   "source": [
    "df = df_steam_games.groupby('id').first().reset_index()"
   ]
  },
  {
   "cell_type": "code",
   "execution_count": null,
   "metadata": {},
   "outputs": [],
   "source": [
    "df.head()"
   ]
  },
  {
   "cell_type": "code",
   "execution_count": null,
   "metadata": {},
   "outputs": [],
   "source": [
    "df['price'] = df['price'].astype(float)"
   ]
  },
  {
   "cell_type": "code",
   "execution_count": null,
   "metadata": {},
   "outputs": [],
   "source": [
    "#SE elimina las columnas que no necesita consultar la consulta\n",
    "df.drop(columns=['genres','app_name','tags','specs'], axis=1, inplace=True)"
   ]
  },
  {
   "cell_type": "code",
   "execution_count": null,
   "metadata": {},
   "outputs": [],
   "source": [
    "df.to_parquet('df_endpoint1.parquet')"
   ]
  },
  {
   "cell_type": "code",
   "execution_count": null,
   "metadata": {},
   "outputs": [],
   "source": [
    "cantidad = df[df['developer'] == desarrollador].groupby('anio').count()\n",
    "cantidad_free = df[(df['developer'] == desarrollador) & (df['price'] == 0.0)].groupby('anio').count()"
   ]
  },
  {
   "cell_type": "code",
   "execution_count": null,
   "metadata": {},
   "outputs": [],
   "source": [
    "porc_cont_free = {}\n",
    "for i in range(len(anio)):\n",
    "  if anio[i] not in anio_free:\n",
    "    #print(anio[i],'0%')\n",
    "    porc_cont_free[anio[i]] = [cantidad_juegos[i],\"0%\"]\n",
    "  else:\n",
    "    for j in range(len(anio_free)):\n",
    "      if anio_free[j]==anio[i]:\n",
    "        #print(anio[i], cantidad_juegos_free[j]/cantidad_juegos[i])\n",
    "        porc_cont_free[anio[i]] = [cantidad_juegos[i], cantidad_juegos_free[j]/cantidad_juegos[i]*100]\n",
    "\n"
   ]
  },
  {
   "cell_type": "markdown",
   "metadata": {},
   "source": [
    "# Endopoint 2"
   ]
  },
  {
   "cell_type": "code",
   "execution_count": null,
   "metadata": {},
   "outputs": [],
   "source": [
    "import pandas as pd\n",
    "import pyarrow.parquet as pq\n",
    "from unidecode import unidecode"
   ]
  },
  {
   "cell_type": "code",
   "execution_count": null,
   "metadata": {},
   "outputs": [],
   "source": [
    "df_reviews = pq.read_table('data/df_reviews_sentimiento.parquet').to_pandas()\n",
    "df_reviews.head()"
   ]
  },
  {
   "cell_type": "code",
   "execution_count": null,
   "metadata": {},
   "outputs": [],
   "source": [
    "df_reviews.shape\n"
   ]
  },
  {
   "cell_type": "code",
   "execution_count": null,
   "metadata": {},
   "outputs": [],
   "source": [
    "type(df_endpoint2['sentiment_analysis'][0])"
   ]
  },
  {
   "cell_type": "code",
   "execution_count": null,
   "metadata": {},
   "outputs": [],
   "source": [
    "df_endpoint2 = df_reviews[['item_id','sentiment_analysis']]"
   ]
  },
  {
   "cell_type": "code",
   "execution_count": null,
   "metadata": {},
   "outputs": [],
   "source": [
    "df_endpoint2 = df_endpoint2[(df_endpoint2['sentiment_analysis'] == 0) | (df_endpoint2['sentiment_analysis'] == 2)]"
   ]
  },
  {
   "cell_type": "code",
   "execution_count": null,
   "metadata": {},
   "outputs": [],
   "source": [
    "df_endpoint2['sentiment_analysis'].value_counts()"
   ]
  },
  {
   "cell_type": "code",
   "execution_count": null,
   "metadata": {},
   "outputs": [],
   "source": [
    "df_steam_games = pq.read_table('data/df_endpoint1.parquet').to_pandas()"
   ]
  },
  {
   "cell_type": "code",
   "execution_count": null,
   "metadata": {},
   "outputs": [],
   "source": [
    "df_steam_games.drop(columns=['price','anio'], axis=1, inplace=True)"
   ]
  },
  {
   "cell_type": "code",
   "execution_count": null,
   "metadata": {},
   "outputs": [],
   "source": [
    "df_steam_games.head()"
   ]
  },
  {
   "cell_type": "code",
   "execution_count": null,
   "metadata": {},
   "outputs": [],
   "source": [
    "df_endpoint2.head()"
   ]
  },
  {
   "cell_type": "code",
   "execution_count": null,
   "metadata": {},
   "outputs": [],
   "source": [
    "resultado = df_steam_games.merge(df_endpoint2, left_on='id', right_on='item_id', how='inner')"
   ]
  },
  {
   "cell_type": "code",
   "execution_count": null,
   "metadata": {},
   "outputs": [],
   "source": [
    "resultado.head()"
   ]
  },
  {
   "cell_type": "markdown",
   "metadata": {},
   "source": [
    "resultado.shape"
   ]
  },
  {
   "cell_type": "code",
   "execution_count": null,
   "metadata": {},
   "outputs": [],
   "source": [
    "resultado['developer'] = resultado['developer'].str.replace('   ',' ').str.replace('.','')"
   ]
  },
  {
   "cell_type": "code",
   "execution_count": null,
   "metadata": {},
   "outputs": [],
   "source": [
    "\n",
    "resultado['developer'] = resultado['developer'].apply(unidecode)"
   ]
  },
  {
   "cell_type": "code",
   "execution_count": null,
   "metadata": {},
   "outputs": [],
   "source": [
    "words_to_remove = [\n",
    "    ' incferal interactive macferal interactive linux',\n",
    "    ' mac amp linux',\n",
    "    ' interactive mac',\n",
    "    ' interactive macferal interactive linux',\n",
    "    ' gamesaspyr macvirtual programming linux',\n",
    "    ' softwareaspyr mac amp linux',\n",
    "    ' interactive mac/linux',\n",
    "    'incferal interactive macferal interactive linux '\n",
    "]\n",
    "\n",
    "def clean_developer_name(name):\n",
    "    for word in words_to_remove:\n",
    "        name = name.replace(word, '').strip()\n",
    "    return name"
   ]
  },
  {
   "cell_type": "code",
   "execution_count": null,
   "metadata": {},
   "outputs": [],
   "source": [
    "#Limpieza de caracteres especiales\n",
    "# Reemplaza '-' por ' ' en todas las columnas\n",
    "resultado = resultado.apply(lambda x: x.str.replace('-', ' ') if x.dtype == \"object\" else x)\n",
    "\n",
    "# Reemplaza '!' por '' en todas las columnas\n",
    "resultado = resultado.apply(lambda x: x.str.replace('!', '') if x.dtype == \"object\" else x)\n",
    "\n",
    "# Reemplaza '¡' por '' en todas las columnas\n",
    "resultado = resultado.apply(lambda x: x.str.replace('¡', '') if x.dtype == \"object\" else x)\n",
    "\n",
    "# Reemplaza '?' por '' en todas las columnas\n",
    "resultado = resultado.apply(lambda x: x.str.replace('?', '') if x.dtype == \"object\" else x)\n",
    "\n",
    "# Reemplaza '¿' por '' en todas las columnas\n",
    "resultado = resultado.apply(lambda x: x.str.replace('¿', '') if x.dtype == \"object\" else x)\n",
    "\n",
    "# Reemplaza '\"' por '' en todas las columnas\n",
    "resultado = resultado.apply(lambda x: x.str.replace('\"', '') if x.dtype == \"object\" else x)\n",
    "\n",
    "# Reemplaza ''' por '' en todas las columnas\n",
    "resultado = resultado.apply(lambda x: x.str.replace(\"'\", '') if x.dtype == \"object\" else x)\n",
    "\n",
    "# Reemplaza ',' por '' en todas las columnas\n",
    "resultado = resultado.apply(lambda x: x.str.replace(\",\", '') if x.dtype == \"object\" else x)\n",
    "\n",
    "# Reemplaza '&' por '' en todas las columnas\n",
    "resultado = resultado.apply(lambda x: x.str.replace(\"&\", '') if x.dtype == \"object\" else x)\n",
    "\n",
    "# Reemplaza \"''\" por '' en todas las columnas\n",
    "resultado = resultado.apply(lambda x: x.str.replace(\"''\", '') if x.dtype == \"object\" else x)\n",
    "\n",
    "# Reemplaza \"_\" por '' en todas las columnas\n",
    "resultado = resultado.apply(lambda x: x.str.replace(\"_\", '') if x.dtype == \"object\" else x)\n",
    "\n",
    "# Reemplaza \"_\" por '' en todas las columnas\n",
    "resultado = resultado.apply(lambda x: x.str.replace(\"[\", '') if x.dtype == \"object\" else x)\n",
    "\n",
    "# Reemplaza \"_\" por '' en todas las columnas\n",
    "resultado = resultado.apply(lambda x: x.str.replace(\"]\", '') if x.dtype == \"object\" else x)\n",
    "\n",
    "# Reemplaza \"_\" por '' en todas las columnas\n",
    "resultado = resultado.apply(lambda x: x.str.replace(\";\", '') if x.dtype == \"object\" else x)\n",
    "\n",
    "# Reemplaza \"_\" por '' en todas las columnas\n",
    "resultado = resultado.apply(lambda x: x.str.replace(\"(\", '') if x.dtype == \"object\" else x)\n",
    "\n",
    "# Reemplaza \"_\" por '' en todas las columnas\n",
    "resultado = resultado.apply(lambda x: x.str.replace(\")\", '') if x.dtype == \"object\" else x)"
   ]
  },
  {
   "cell_type": "code",
   "execution_count": null,
   "metadata": {},
   "outputs": [],
   "source": [
    "resultado['cleaned_developer_column'] = resultado['developer'].apply(clean_developer_name)"
   ]
  },
  {
   "cell_type": "code",
   "execution_count": null,
   "metadata": {},
   "outputs": [],
   "source": [
    "resultado['developer'] = resultado['cleaned_developer_column']"
   ]
  },
  {
   "cell_type": "code",
   "execution_count": null,
   "metadata": {},
   "outputs": [],
   "source": [
    "resultado.drop('item_id',axis=1, inplace=True)"
   ]
  },
  {
   "cell_type": "code",
   "execution_count": null,
   "metadata": {},
   "outputs": [],
   "source": [
    "resultado.head()"
   ]
  },
  {
   "cell_type": "code",
   "execution_count": null,
   "metadata": {},
   "outputs": [],
   "source": [
    "resultado.to_parquet('df_endpoint2.parquet')"
   ]
  },
  {
   "cell_type": "markdown",
   "metadata": {},
   "source": [
    "# Endopoint 3"
   ]
  },
  {
   "cell_type": "code",
   "execution_count": 1,
   "metadata": {},
   "outputs": [],
   "source": [
    "import pandas as pd\n",
    "import pyarrow.parquet as pq"
   ]
  },
  {
   "cell_type": "code",
   "execution_count": null,
   "metadata": {},
   "outputs": [],
   "source": [
    "df_reviews = pq.read_table('df_reviews_sentimiento.parquet').to_pandas()\n",
    "df_steam_games = pq.read_table('df_steam_games.parquet').to_pandas()\n"
   ]
  },
  {
   "cell_type": "code",
   "execution_count": null,
   "metadata": {},
   "outputs": [],
   "source": [
    "df_reviews = df_reviews[['user_id','recommend','item_id']]\n",
    "df_steam_games = df_steam_games[['price','id']]"
   ]
  },
  {
   "cell_type": "code",
   "execution_count": null,
   "metadata": {},
   "outputs": [],
   "source": [
    "type(df_reviews['item_id'][0]),type(df_steam_games['id'][0])"
   ]
  },
  {
   "cell_type": "code",
   "execution_count": null,
   "metadata": {},
   "outputs": [],
   "source": [
    "resultado = df_reviews.merge(df_steam_games, left_on='item_id', right_on='id', how='inner')"
   ]
  },
  {
   "cell_type": "code",
   "execution_count": null,
   "metadata": {},
   "outputs": [],
   "source": [
    "resultado.drop('id',axis=1,inplace=True)\n",
    "resultado.shape"
   ]
  },
  {
   "cell_type": "code",
   "execution_count": null,
   "metadata": {},
   "outputs": [],
   "source": [
    "df = resultado.drop_duplicates(subset=['user_id', 'item_id'])\n"
   ]
  },
  {
   "cell_type": "code",
   "execution_count": null,
   "metadata": {},
   "outputs": [],
   "source": [
    "df.head()"
   ]
  },
  {
   "cell_type": "code",
   "execution_count": null,
   "metadata": {},
   "outputs": [],
   "source": [
    "df.reset_index(inplace=True)"
   ]
  },
  {
   "cell_type": "code",
   "execution_count": null,
   "metadata": {},
   "outputs": [],
   "source": [
    "df.drop(columns=['level_0','index'], axis=1, inplace=True)"
   ]
  },
  {
   "cell_type": "code",
   "execution_count": null,
   "metadata": {},
   "outputs": [],
   "source": [
    "import pyarrow.parquet as pq\n",
    "df.to_parquet('df_endpoint3.parquet')"
   ]
  },
  {
   "cell_type": "markdown",
   "metadata": {},
   "source": [
    "# Endopoint 4"
   ]
  },
  {
   "cell_type": "code",
   "execution_count": null,
   "metadata": {},
   "outputs": [],
   "source": [
    "import pandas as pd\n",
    "import pyarrow.parquet as pq"
   ]
  },
  {
   "cell_type": "code",
   "execution_count": null,
   "metadata": {},
   "outputs": [],
   "source": [
    "df_steam_games = pq.read_table('data/df_steam_games.parquet').to_pandas()\n",
    "\n",
    "df_items = pq.read_table('df_user_items.parquet').to_pandas()\n",
    "\n",
    "df_steam_games = df_steam_games[['genres','id','anio']]\n",
    "df_items = df_items[['user_id','item_id','playtime_forever','playtime_2weeks']]\n"
   ]
  },
  {
   "cell_type": "code",
   "execution_count": null,
   "metadata": {},
   "outputs": [],
   "source": [
    "\n",
    "df_items[( df_items['playtime_2weeks'] != 0.0 ) & ( df_items['playtime_forever'] == 0.0)]\n",
    "\n",
    "df_items.at[253453, 'playtime_forever'] = df_items.at[253453,'playtime_2weeks']\n",
    "df_items.at[1093823, 'playtime_forever'] = df_items.at[1093823,'playtime_2weeks']\n",
    "df_items.at[2763031, 'playtime_forever'] = df_items.at[2763031,'playtime_2weeks']\n",
    "\n",
    "df_items.drop('playtime_2weeks',axis=1, inplace=True)\n",
    "\n",
    "df = df_items.drop_duplicates()\n",
    "\n",
    "df.reset_index(inplace=True, drop=True)\n",
    "\n",
    "df1 = df_steam_games.groupby('id').first().reset_index()\n",
    "\n",
    "df1 = df1[df1['anio']!=0]\n",
    "\n",
    "resultado = df1.merge(df, left_on='id', right_on='item_id', how='inner')"
   ]
  },
  {
   "cell_type": "code",
   "execution_count": null,
   "metadata": {},
   "outputs": [],
   "source": [
    "#Se muestra el datafreame\n",
    "resultado.head()"
   ]
  },
  {
   "cell_type": "code",
   "execution_count": null,
   "metadata": {},
   "outputs": [],
   "source": [
    "#Se guarda el dataframe\n",
    "resultado.to_parquet('df_endpoint4')"
   ]
  },
  {
   "cell_type": "markdown",
   "metadata": {},
   "source": [
    "## Endpoint 5"
   ]
  },
  {
   "cell_type": "code",
   "execution_count": null,
   "metadata": {},
   "outputs": [],
   "source": [
    "df_steam_games = pq.read_table('data/df_steam_games_limpio.parquet').to_pandas()\n",
    "df_reviews = pq.read_table('/data/df_reviews_sentimiento.parquet').to_pandas()"
   ]
  },
  {
   "cell_type": "code",
   "execution_count": null,
   "metadata": {},
   "outputs": [],
   "source": [
    "df_steam_games = df_steam_games[['id','developer','anio']]\n",
    "df_reviews = df_reviews[['item_id','recommend','sentiment_analysis']]"
   ]
  },
  {
   "cell_type": "code",
   "execution_count": null,
   "metadata": {},
   "outputs": [],
   "source": [
    "df = df_steam_games.groupby('id').first().reset_index()"
   ]
  },
  {
   "cell_type": "code",
   "execution_count": null,
   "metadata": {},
   "outputs": [],
   "source": [
    "df = df[df['anio']!=0]"
   ]
  },
  {
   "cell_type": "code",
   "execution_count": null,
   "metadata": {},
   "outputs": [],
   "source": [
    "df.head()"
   ]
  },
  {
   "cell_type": "code",
   "execution_count": null,
   "metadata": {},
   "outputs": [],
   "source": [
    "df_reviews.head(5)"
   ]
  },
  {
   "cell_type": "code",
   "execution_count": null,
   "metadata": {},
   "outputs": [],
   "source": [
    "resultado = df.merge(df_reviews, left_on='id', right_on='item_id', how='inner')"
   ]
  },
  {
   "cell_type": "code",
   "execution_count": null,
   "metadata": {},
   "outputs": [],
   "source": [
    "resultado.drop('id', axis=1, inplace=True)"
   ]
  },
  {
   "cell_type": "code",
   "execution_count": null,
   "metadata": {},
   "outputs": [],
   "source": [
    "resultado = resultado[resultado['recommend'] == 'true']"
   ]
  },
  {
   "cell_type": "code",
   "execution_count": null,
   "metadata": {},
   "outputs": [],
   "source": [
    "resultado = resultado[resultado['sentiment_analysis'] == 2]"
   ]
  },
  {
   "cell_type": "code",
   "execution_count": null,
   "metadata": {},
   "outputs": [],
   "source": [
    "resultado.head()"
   ]
  },
  {
   "cell_type": "code",
   "execution_count": null,
   "metadata": {},
   "outputs": [],
   "source": [
    "resultado.to_parquet('df_endpoint5.parquet')"
   ]
  },
  {
   "cell_type": "code",
   "execution_count": null,
   "metadata": {},
   "outputs": [],
   "source": [
    "resultado[(resultado['anio'] == 2000) & (resultado['developer'] == 'valve')].shape"
   ]
  },
  {
   "cell_type": "code",
   "execution_count": null,
   "metadata": {},
   "outputs": [],
   "source": [
    "cantidad"
   ]
  },
  {
   "cell_type": "code",
   "execution_count": null,
   "metadata": {},
   "outputs": [],
   "source": [
    "cantidad.reset_index(inplace=True)"
   ]
  },
  {
   "cell_type": "code",
   "execution_count": null,
   "metadata": {},
   "outputs": [],
   "source": [
    "cantidad = cantidad.sort_values(by='anio', ascending=False)"
   ]
  },
  {
   "cell_type": "code",
   "execution_count": null,
   "metadata": {},
   "outputs": [],
   "source": [
    "cantidad = cantidad[['developer','anio']]"
   ]
  },
  {
   "cell_type": "code",
   "execution_count": null,
   "metadata": {},
   "outputs": [],
   "source": [
    "cantidad.head()"
   ]
  },
  {
   "cell_type": "code",
   "execution_count": null,
   "metadata": {},
   "outputs": [],
   "source": [
    "cantidad.set_index('developer', inplace=True)"
   ]
  },
  {
   "cell_type": "code",
   "execution_count": null,
   "metadata": {},
   "outputs": [],
   "source": [
    "cantidad.columns = ['Cantidad']"
   ]
  },
  {
   "cell_type": "code",
   "execution_count": null,
   "metadata": {},
   "outputs": [],
   "source": [
    "primeros_tres = cantidad.iloc[:3]"
   ]
  },
  {
   "cell_type": "code",
   "execution_count": null,
   "metadata": {},
   "outputs": [],
   "source": [
    "primeros_tres.to_dict()"
   ]
  }
 ],
 "metadata": {
  "kernelspec": {
   "display_name": "Python 3",
   "language": "python",
   "name": "python3"
  },
  "language_info": {
   "codemirror_mode": {
    "name": "ipython",
    "version": 3
   },
   "file_extension": ".py",
   "mimetype": "text/x-python",
   "name": "python",
   "nbconvert_exporter": "python",
   "pygments_lexer": "ipython3",
   "version": "3.11.0b5"
  }
 },
 "nbformat": 4,
 "nbformat_minor": 2
}

{
 "cells": [
  {
   "cell_type": "code",
   "execution_count": 1,
   "metadata": {},
   "outputs": [],
   "source": [
    "import pandas as pd\n",
    "import pyarrow.parquet as pq\n",
    "from sklearn.feature_extraction.text import TfidfVectorizer\n",
    "from sklearn.metrics.pairwise import linear_kernel\n"
   ]
  },
  {
   "cell_type": "code",
   "execution_count": 16,
   "metadata": {},
   "outputs": [],
   "source": [
    "df_steam_games = pq.read_table('df_steam_games_1.parquet').to_pandas()"
   ]
  },
  {
   "cell_type": "code",
   "execution_count": 17,
   "metadata": {},
   "outputs": [],
   "source": [
    "# Selección de columnas relevantes\n",
    "data = df_steam_games[['id', 'app_name', 'genres', 'tags', 'specs']]"
   ]
  },
  {
   "cell_type": "code",
   "execution_count": 18,
   "metadata": {},
   "outputs": [
    {
     "name": "stderr",
     "output_type": "stream",
     "text": [
      "C:\\Users\\Blasferp\\AppData\\Local\\Temp\\ipykernel_6792\\2149226059.py:2: SettingWithCopyWarning: \n",
      "A value is trying to be set on a copy of a slice from a DataFrame.\n",
      "Try using .loc[row_indexer,col_indexer] = value instead\n",
      "\n",
      "See the caveats in the documentation: https://pandas.pydata.org/pandas-docs/stable/user_guide/indexing.html#returning-a-view-versus-a-copy\n",
      "  data['combined_features'] = data['genres'] + ' ' + data['tags'] + ' ' + data['specs']\n"
     ]
    }
   ],
   "source": [
    "# Limpieza y preprocesamiento de texto\n",
    "data['combined_features'] = data['genres'] + ' ' + data['tags'] + ' ' + data['specs']"
   ]
  },
  {
   "cell_type": "code",
   "execution_count": 19,
   "metadata": {},
   "outputs": [
    {
     "data": {
      "text/plain": [
       "(2020050, 6)"
      ]
     },
     "execution_count": 19,
     "metadata": {},
     "output_type": "execute_result"
    }
   ],
   "source": [
    "data.shape"
   ]
  },
  {
   "cell_type": "code",
   "execution_count": 20,
   "metadata": {},
   "outputs": [],
   "source": [
    "data = data.groupby('id').first().reset_index()"
   ]
  },
  {
   "cell_type": "code",
   "execution_count": 21,
   "metadata": {},
   "outputs": [],
   "source": [
    "data = data[data['id']!=0]"
   ]
  },
  {
   "cell_type": "code",
   "execution_count": 22,
   "metadata": {},
   "outputs": [
    {
     "data": {
      "text/plain": [
       "30708"
      ]
     },
     "execution_count": 22,
     "metadata": {},
     "output_type": "execute_result"
    }
   ],
   "source": [
    "data['app_name'].nunique()"
   ]
  },
  {
   "cell_type": "code",
   "execution_count": 23,
   "metadata": {},
   "outputs": [],
   "source": [
    "data = data.sample(n=3500)"
   ]
  },
  {
   "cell_type": "code",
   "execution_count": 24,
   "metadata": {},
   "outputs": [
    {
     "data": {
      "text/plain": [
       "(3500, 6)"
      ]
     },
     "execution_count": 24,
     "metadata": {},
     "output_type": "execute_result"
    }
   ],
   "source": [
    "data.shape"
   ]
  },
  {
   "cell_type": "code",
   "execution_count": 25,
   "metadata": {},
   "outputs": [],
   "source": [
    "data.reset_index(drop=True, inplace=True)"
   ]
  },
  {
   "cell_type": "code",
   "execution_count": 26,
   "metadata": {},
   "outputs": [
    {
     "data": {
      "text/html": [
       "<div>\n",
       "<style scoped>\n",
       "    .dataframe tbody tr th:only-of-type {\n",
       "        vertical-align: middle;\n",
       "    }\n",
       "\n",
       "    .dataframe tbody tr th {\n",
       "        vertical-align: top;\n",
       "    }\n",
       "\n",
       "    .dataframe thead th {\n",
       "        text-align: right;\n",
       "    }\n",
       "</style>\n",
       "<table border=\"1\" class=\"dataframe\">\n",
       "  <thead>\n",
       "    <tr style=\"text-align: right;\">\n",
       "      <th></th>\n",
       "      <th>id</th>\n",
       "      <th>app_name</th>\n",
       "      <th>genres</th>\n",
       "      <th>tags</th>\n",
       "      <th>specs</th>\n",
       "      <th>combined_features</th>\n",
       "    </tr>\n",
       "  </thead>\n",
       "  <tbody>\n",
       "    <tr>\n",
       "      <th>0</th>\n",
       "      <td>708190</td>\n",
       "      <td>code world</td>\n",
       "      <td>indie</td>\n",
       "      <td>indie</td>\n",
       "      <td>single player</td>\n",
       "      <td>indie indie single player</td>\n",
       "    </tr>\n",
       "    <tr>\n",
       "      <th>1</th>\n",
       "      <td>548050</td>\n",
       "      <td>runes</td>\n",
       "      <td>casual</td>\n",
       "      <td>casual</td>\n",
       "      <td>single player</td>\n",
       "      <td>casual casual single player</td>\n",
       "    </tr>\n",
       "    <tr>\n",
       "      <th>2</th>\n",
       "      <td>497930</td>\n",
       "      <td>wanda   a graphic novel</td>\n",
       "      <td>casual</td>\n",
       "      <td>rpg</td>\n",
       "      <td>single player</td>\n",
       "      <td>casual rpg single player</td>\n",
       "    </tr>\n",
       "    <tr>\n",
       "      <th>3</th>\n",
       "      <td>632740</td>\n",
       "      <td>equilibrium of divinity   original soundtrack</td>\n",
       "      <td>indie</td>\n",
       "      <td>rpg</td>\n",
       "      <td>single player</td>\n",
       "      <td>indie rpg single player</td>\n",
       "    </tr>\n",
       "    <tr>\n",
       "      <th>4</th>\n",
       "      <td>367220</td>\n",
       "      <td>egyptian settlement gold</td>\n",
       "      <td>casual</td>\n",
       "      <td>strategy</td>\n",
       "      <td>single player</td>\n",
       "      <td>casual strategy single player</td>\n",
       "    </tr>\n",
       "    <tr>\n",
       "      <th>...</th>\n",
       "      <td>...</td>\n",
       "      <td>...</td>\n",
       "      <td>...</td>\n",
       "      <td>...</td>\n",
       "      <td>...</td>\n",
       "      <td>...</td>\n",
       "    </tr>\n",
       "    <tr>\n",
       "      <th>3495</th>\n",
       "      <td>301245</td>\n",
       "      <td>fantasy grounds   4e: lands of darkness #2: ce...</td>\n",
       "      <td>indie</td>\n",
       "      <td>rpg</td>\n",
       "      <td>multi player</td>\n",
       "      <td>indie rpg multi player</td>\n",
       "    </tr>\n",
       "    <tr>\n",
       "      <th>3496</th>\n",
       "      <td>775210</td>\n",
       "      <td>jump gunners original soundtrack</td>\n",
       "      <td>action</td>\n",
       "      <td>action</td>\n",
       "      <td>single player</td>\n",
       "      <td>action action single player</td>\n",
       "    </tr>\n",
       "    <tr>\n",
       "      <th>3497</th>\n",
       "      <td>689600</td>\n",
       "      <td>little earth</td>\n",
       "      <td>none</td>\n",
       "      <td>early access</td>\n",
       "      <td>single player</td>\n",
       "      <td>none early access single player</td>\n",
       "    </tr>\n",
       "    <tr>\n",
       "      <th>3498</th>\n",
       "      <td>494960</td>\n",
       "      <td>twisted arrow</td>\n",
       "      <td>none</td>\n",
       "      <td>action</td>\n",
       "      <td>single player</td>\n",
       "      <td>none action single player</td>\n",
       "    </tr>\n",
       "    <tr>\n",
       "      <th>3499</th>\n",
       "      <td>378510</td>\n",
       "      <td>witches heroes and magic</td>\n",
       "      <td>action</td>\n",
       "      <td>rpg</td>\n",
       "      <td>single player</td>\n",
       "      <td>action rpg single player</td>\n",
       "    </tr>\n",
       "  </tbody>\n",
       "</table>\n",
       "<p>3500 rows × 6 columns</p>\n",
       "</div>"
      ],
      "text/plain": [
       "          id                                           app_name  genres  \\\n",
       "0     708190                                         code world   indie   \n",
       "1     548050                                              runes  casual   \n",
       "2     497930                            wanda   a graphic novel  casual   \n",
       "3     632740      equilibrium of divinity   original soundtrack   indie   \n",
       "4     367220                           egyptian settlement gold  casual   \n",
       "...      ...                                                ...     ...   \n",
       "3495  301245  fantasy grounds   4e: lands of darkness #2: ce...   indie   \n",
       "3496  775210                   jump gunners original soundtrack  action   \n",
       "3497  689600                                       little earth    none   \n",
       "3498  494960                                      twisted arrow    none   \n",
       "3499  378510                           witches heroes and magic  action   \n",
       "\n",
       "              tags          specs                combined_features  \n",
       "0            indie  single player        indie indie single player  \n",
       "1           casual  single player      casual casual single player  \n",
       "2              rpg  single player         casual rpg single player  \n",
       "3              rpg  single player          indie rpg single player  \n",
       "4         strategy  single player    casual strategy single player  \n",
       "...            ...            ...                              ...  \n",
       "3495           rpg   multi player           indie rpg multi player  \n",
       "3496        action  single player      action action single player  \n",
       "3497  early access  single player  none early access single player  \n",
       "3498        action  single player        none action single player  \n",
       "3499           rpg  single player         action rpg single player  \n",
       "\n",
       "[3500 rows x 6 columns]"
      ]
     },
     "execution_count": 26,
     "metadata": {},
     "output_type": "execute_result"
    }
   ],
   "source": [
    "data"
   ]
  },
  {
   "cell_type": "code",
   "execution_count": 27,
   "metadata": {},
   "outputs": [
    {
     "data": {
      "text/html": [
       "<div>\n",
       "<style scoped>\n",
       "    .dataframe tbody tr th:only-of-type {\n",
       "        vertical-align: middle;\n",
       "    }\n",
       "\n",
       "    .dataframe tbody tr th {\n",
       "        vertical-align: top;\n",
       "    }\n",
       "\n",
       "    .dataframe thead th {\n",
       "        text-align: right;\n",
       "    }\n",
       "</style>\n",
       "<table border=\"1\" class=\"dataframe\">\n",
       "  <thead>\n",
       "    <tr style=\"text-align: right;\">\n",
       "      <th></th>\n",
       "      <th>id</th>\n",
       "      <th>app_name</th>\n",
       "      <th>genres</th>\n",
       "      <th>tags</th>\n",
       "      <th>specs</th>\n",
       "      <th>combined_features</th>\n",
       "    </tr>\n",
       "  </thead>\n",
       "  <tbody>\n",
       "    <tr>\n",
       "      <th>0</th>\n",
       "      <td>708190</td>\n",
       "      <td>code world</td>\n",
       "      <td>indie</td>\n",
       "      <td>indie</td>\n",
       "      <td>single player</td>\n",
       "      <td>indie indie single player</td>\n",
       "    </tr>\n",
       "    <tr>\n",
       "      <th>1</th>\n",
       "      <td>548050</td>\n",
       "      <td>runes</td>\n",
       "      <td>casual</td>\n",
       "      <td>casual</td>\n",
       "      <td>single player</td>\n",
       "      <td>casual casual single player</td>\n",
       "    </tr>\n",
       "    <tr>\n",
       "      <th>2</th>\n",
       "      <td>497930</td>\n",
       "      <td>wanda   a graphic novel</td>\n",
       "      <td>casual</td>\n",
       "      <td>rpg</td>\n",
       "      <td>single player</td>\n",
       "      <td>casual rpg single player</td>\n",
       "    </tr>\n",
       "    <tr>\n",
       "      <th>3</th>\n",
       "      <td>632740</td>\n",
       "      <td>equilibrium of divinity   original soundtrack</td>\n",
       "      <td>indie</td>\n",
       "      <td>rpg</td>\n",
       "      <td>single player</td>\n",
       "      <td>indie rpg single player</td>\n",
       "    </tr>\n",
       "    <tr>\n",
       "      <th>4</th>\n",
       "      <td>367220</td>\n",
       "      <td>egyptian settlement gold</td>\n",
       "      <td>casual</td>\n",
       "      <td>strategy</td>\n",
       "      <td>single player</td>\n",
       "      <td>casual strategy single player</td>\n",
       "    </tr>\n",
       "    <tr>\n",
       "      <th>5</th>\n",
       "      <td>211800</td>\n",
       "      <td>dead hungry diner</td>\n",
       "      <td>casual</td>\n",
       "      <td>casual</td>\n",
       "      <td>single player</td>\n",
       "      <td>casual casual single player</td>\n",
       "    </tr>\n",
       "    <tr>\n",
       "      <th>6</th>\n",
       "      <td>407821</td>\n",
       "      <td>pool nation fx   unlock balls</td>\n",
       "      <td>casual</td>\n",
       "      <td>strategy</td>\n",
       "      <td>single player</td>\n",
       "      <td>casual strategy single player</td>\n",
       "    </tr>\n",
       "    <tr>\n",
       "      <th>7</th>\n",
       "      <td>342650</td>\n",
       "      <td>fermis path</td>\n",
       "      <td>action</td>\n",
       "      <td>indie</td>\n",
       "      <td>single player</td>\n",
       "      <td>action indie single player</td>\n",
       "    </tr>\n",
       "    <tr>\n",
       "      <th>8</th>\n",
       "      <td>520930</td>\n",
       "      <td>pong it vr</td>\n",
       "      <td>none</td>\n",
       "      <td>early access</td>\n",
       "      <td>single player</td>\n",
       "      <td>none early access single player</td>\n",
       "    </tr>\n",
       "    <tr>\n",
       "      <th>9</th>\n",
       "      <td>237621</td>\n",
       "      <td>batman: arkham origins   infinite earths skin ...</td>\n",
       "      <td>action</td>\n",
       "      <td>action</td>\n",
       "      <td>single player</td>\n",
       "      <td>action action single player</td>\n",
       "    </tr>\n",
       "  </tbody>\n",
       "</table>\n",
       "</div>"
      ],
      "text/plain": [
       "       id                                           app_name  genres  \\\n",
       "0  708190                                         code world   indie   \n",
       "1  548050                                              runes  casual   \n",
       "2  497930                            wanda   a graphic novel  casual   \n",
       "3  632740      equilibrium of divinity   original soundtrack   indie   \n",
       "4  367220                           egyptian settlement gold  casual   \n",
       "5  211800                                  dead hungry diner  casual   \n",
       "6  407821                      pool nation fx   unlock balls  casual   \n",
       "7  342650                                        fermis path  action   \n",
       "8  520930                                         pong it vr    none   \n",
       "9  237621  batman: arkham origins   infinite earths skin ...  action   \n",
       "\n",
       "           tags          specs                combined_features  \n",
       "0         indie  single player        indie indie single player  \n",
       "1        casual  single player      casual casual single player  \n",
       "2           rpg  single player         casual rpg single player  \n",
       "3           rpg  single player          indie rpg single player  \n",
       "4      strategy  single player    casual strategy single player  \n",
       "5        casual  single player      casual casual single player  \n",
       "6      strategy  single player    casual strategy single player  \n",
       "7         indie  single player       action indie single player  \n",
       "8  early access  single player  none early access single player  \n",
       "9        action  single player      action action single player  "
      ]
     },
     "execution_count": 27,
     "metadata": {},
     "output_type": "execute_result"
    }
   ],
   "source": [
    "data.head(10)"
   ]
  },
  {
   "cell_type": "code",
   "execution_count": 28,
   "metadata": {},
   "outputs": [
    {
     "data": {
      "text/plain": [
       "app_name\n",
       "total extreme wrestling                                               2\n",
       "fortify                                                               2\n",
       "toukiden kiwami   mission collection 1 3                              1\n",
       "aliens vs. predator™                                                  1\n",
       "rocksmith® 2014 – my chemical romance   “i’m not okay (i promise)”    1\n",
       "                                                                     ..\n",
       "创世 修真录                                                                1\n",
       "timore 5                                                              1\n",
       "slayaway camp                                                         1\n",
       "fourchords guitar karaoke   meghan trainor song pack                  1\n",
       "witches heroes and magic                                              1\n",
       "Name: count, Length: 3498, dtype: int64"
      ]
     },
     "execution_count": 28,
     "metadata": {},
     "output_type": "execute_result"
    }
   ],
   "source": [
    "data['app_name'].value_counts()"
   ]
  },
  {
   "cell_type": "code",
   "execution_count": 29,
   "metadata": {},
   "outputs": [],
   "source": [
    "import pyarrow.parquet as pq\n",
    "data.to_parquet('df_recomendacion.parquet')"
   ]
  },
  {
   "cell_type": "code",
   "execution_count": 30,
   "metadata": {},
   "outputs": [],
   "source": [
    "from sklearn.feature_extraction.text import CountVectorizer\n",
    "from sklearn.metrics.pairwise import cosine_similarity"
   ]
  },
  {
   "cell_type": "code",
   "execution_count": 31,
   "metadata": {},
   "outputs": [],
   "source": [
    "CV = CountVectorizer()\n",
    "converted_metrix = CV.fit_transform(data['combined_features'])"
   ]
  },
  {
   "cell_type": "code",
   "execution_count": 32,
   "metadata": {},
   "outputs": [],
   "source": [
    "cosine_similarity = cosine_similarity(converted_metrix)"
   ]
  },
  {
   "cell_type": "code",
   "execution_count": 33,
   "metadata": {},
   "outputs": [],
   "source": [
    "def get_recommendations(app_name, cosine_sim=cosine_similarity ):\n",
    "    idx = data[data['app_name'] == app_name].index[0]\n",
    "    sim_scores = list(enumerate(cosine_sim[idx]))\n",
    "    sim_scores = sorted(sim_scores, key=lambda x: x[1], reverse=True)\n",
    "    sim_scores = sim_scores[1:6]  # Top 10 juegos similares\n",
    "    game_indices = [i[0] for i in sim_scores]\n",
    "    return data['app_name'].iloc[game_indices]\n",
    "\n"
   ]
  },
  {
   "cell_type": "code",
   "execution_count": 34,
   "metadata": {},
   "outputs": [
    {
     "data": {
      "text/plain": [
       "['Matriz.pkl']"
      ]
     },
     "execution_count": 34,
     "metadata": {},
     "output_type": "execute_result"
    }
   ],
   "source": [
    "# guardo la matriz\n",
    "\n",
    "import joblib #pickle es alternativa\n",
    "\n",
    "joblib.dump(cosine_similarity, 'Matriz.pkl', compress=1)"
   ]
  },
  {
   "cell_type": "code",
   "execution_count": 35,
   "metadata": {},
   "outputs": [],
   "source": [
    "import joblib\n",
    "with open('Matriz.pkl', 'rb') as file:\n",
    "        modelo = joblib.load(file)\n",
    "\n",
    "data = pd.read_parquet('df_recomendacion.parquet')"
   ]
  },
  {
   "cell_type": "code",
   "execution_count": 36,
   "metadata": {},
   "outputs": [
    {
     "data": {
      "text/plain": [
       "(3500, 6)"
      ]
     },
     "execution_count": 36,
     "metadata": {},
     "output_type": "execute_result"
    }
   ],
   "source": [
    "data.shape"
   ]
  },
  {
   "cell_type": "code",
   "execution_count": 37,
   "metadata": {},
   "outputs": [
    {
     "name": "stdout",
     "output_type": "stream",
     "text": [
      "128    toy soldiers: war chest   legendary heroes\n",
      "233                             executive assault\n",
      "259                            his   extend  pack\n",
      "311                    mechs  mercs: black talons\n",
      "339         bloons td 5   top gun monkey ace skin\n",
      "Name: app_name, dtype: object\n"
     ]
    }
   ],
   "source": [
    "recommendations = get_recommendations('fortify')\n",
    "print(recommendations)"
   ]
  }
 ],
 "metadata": {
  "kernelspec": {
   "display_name": "env",
   "language": "python",
   "name": "python3"
  },
  "language_info": {
   "codemirror_mode": {
    "name": "ipython",
    "version": 3
   },
   "file_extension": ".py",
   "mimetype": "text/x-python",
   "name": "python",
   "nbconvert_exporter": "python",
   "pygments_lexer": "ipython3",
   "version": "3.11.0b5"
  }
 },
 "nbformat": 4,
 "nbformat_minor": 2
}
